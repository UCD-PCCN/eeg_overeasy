{
 "cells": [
  {
   "cell_type": "raw",
   "metadata": {},
   "source": [
    "# eeg_power Class"
   ]
  },
  {
   "cell_type": "code",
   "execution_count": 13,
   "metadata": {},
   "outputs": [],
   "source": [
    "#imports \n",
    "import mne\n",
    "import numpy as np\n",
    "import pandas as pd\n",
    "import os\n",
    "import glob\n",
    "from matplotlib import pyplot"
   ]
  },
  {
   "cell_type": "code",
   "execution_count": 4,
   "metadata": {},
   "outputs": [
    {
     "data": {
      "text/plain": [
       "\"\\nclass eeg_power: \\n    def __init__(self, file_dir=None,  dataType='.cnt', montage=None):\\n        #search the whole directory tree for anything with the \\n        #specified data type\\n        self.files=glob.glob(os.path.join(file_dir, ('*/*' + dataType)))                                \\n        self.montage=montage\\n        self.data=None\\n        self.dType\\n    \\n     def load_data(self, Nodes=None):\\n        #load method after intial init, this will give us the flexibility\\n        #to restart after node subsetting if we need to\\n            dats=[eeg_dynamic_read(file, self.montage).read_eeg(self.dType) for file in self.files]\\n\""
      ]
     },
     "execution_count": 4,
     "metadata": {},
     "output_type": "execute_result"
    }
   ],
   "source": [
    "class eeg_dynamic_read:\n",
    "    def __init__(self, file, montage):\n",
    "        self.file=file\n",
    "        self.montage=montage\n",
    "    \n",
    "    def read_eeg(self, file_tag):\n",
    "        eeg_type='read_'+file_tag\n",
    "        method=getattr(self, eeg_type, lambda: 'Invalid Type')\n",
    "        return method()\n",
    "        \n",
    "    def read_cnt(self):\n",
    "        return mne.io.read_raw_cnt(self.file,self.montage)\n",
    "\n",
    "\n",
    "\n",
    "class subject:\n",
    "    def __init__(self, ID, data, events, nodes, sample_rate):\n",
    "        self.ID=ID\n",
    "        self.data=data\n",
    "        self.events=events\n",
    "        self.nodes=nodes\n",
    "        self.sample_rate=sample_rate\n",
    "    \n",
    "    def get_ERP(self,event_tag=None, interval=(0, 100)):\n",
    "        \n",
    "        int_val=np.array(interval)/self.sample_rate\n",
    "        #pull out event sample events so we can iterate over them in the \n",
    "        #data file\n",
    "        evnt_sample=self.events[self.events[:,2]==event_tag][:,0]\n",
    "        \n",
    "        \n",
    "        erp_array=np.array([self.data[k:k+int((interval_length/self.sample_rate))] for k in evnt_sample])        \n",
    "        return np.mean(erp_array, axis=0)\n",
    "            \n",
    "        \n",
    "\n",
    "\n",
    "'''\n",
    "class eeg_power: \n",
    "    def __init__(self, file_dir=None,  dataType='.cnt', montage=None):\n",
    "        #search the whole directory tree for anything with the \n",
    "        #specified data type\n",
    "        self.files=glob.glob(os.path.join(file_dir, ('*/*' + dataType)))                                \n",
    "        self.montage=montage\n",
    "        self.data=None\n",
    "        self.dType\n",
    "    \n",
    "     def load_data(self, Nodes=None):\n",
    "        #load method after intial init, this will give us the flexibility\n",
    "        #to restart after node subsetting if we need to\n",
    "            dats=[eeg_dynamic_read(file, self.montage).read_eeg(self.dType) for file in self.files]\n",
    "'''                         \n",
    "        \n",
    "       "
   ]
  },
  {
   "cell_type": "code",
   "execution_count": 5,
   "metadata": {},
   "outputs": [
    {
     "data": {
      "text/plain": [
       "['C:/Users/Phil/Box Sync/Classes/PSC_290_Final\\\\data\\\\ObjectAttn_10_1.cnt']"
      ]
     },
     "execution_count": 5,
     "metadata": {},
     "output_type": "execute_result"
    }
   ],
   "source": [
    "direct='C:/Users/Phil/Box Sync/Classes/PSC_290_Final/'\n",
    "glob.glob(os.path.join(direct, ('*/*' + '.cnt')))"
   ]
  },
  {
   "cell_type": "code",
   "execution_count": 6,
   "metadata": {},
   "outputs": [
    {
     "name": "stdout",
     "output_type": "stream",
     "text": [
      "  Could not parse meas date from the header. Setting to None.\n"
     ]
    },
    {
     "name": "stderr",
     "output_type": "stream",
     "text": [
      "<ipython-input-4-199f5b924454>:12: RuntimeWarning:   Could not parse meas date from the header. Setting to None.\n",
      "  return mne.io.read_raw_cnt(self.file,self.montage)\n"
     ]
    }
   ],
   "source": [
    "ytest=eeg_dynamic_read(file=os.path.join(direct, 'data' ,'ObjectAttn_10_1.cnt'),\n",
    "                       montage=os.path.join(direct, 'data','BP64_acti_64rows.sfp'))\n",
    "ltest=ytest.read_eeg('cnt')"
   ]
  },
  {
   "cell_type": "code",
   "execution_count": 11,
   "metadata": {},
   "outputs": [
    {
     "name": "stdout",
     "output_type": "stream",
     "text": [
      "129 events found\n",
      "Event IDs: [  1   2   3  48  77  88 100 200]\n"
     ]
    }
   ],
   "source": [
    "subj=subject(ID='p', data=ltest.get_data()[0], events=mne.find_events(ltest), nodes=None, sample_rate=1)"
   ]
  },
  {
   "cell_type": "code",
   "execution_count": 12,
   "metadata": {},
   "outputs": [],
   "source": [
    "test=subj.get_ERP(event_tag=2, interval_length=100)"
   ]
  },
  {
   "cell_type": "code",
   "execution_count": 17,
   "metadata": {},
   "outputs": [
    {
     "data": {
      "text/plain": [
       "[<matplotlib.lines.Line2D at 0x1c5f3f90>]"
      ]
     },
     "execution_count": 17,
     "metadata": {},
     "output_type": "execute_result"
    },
    {
     "data": {
      "image/png": "[encoded data removed]",
      "text/plain": [
       "<Figure size 432x288 with 1 Axes>"
      ]
     },
     "metadata": {},
     "output_type": "display_data"
    }
   ],
   "source": [
    "pyplot.plot(range(1,len(test)+1), test)"
   ]
  },
  {
   "cell_type": "code",
   "execution_count": 19,
   "metadata": {},
   "outputs": [
    {
     "data": {
      "text/plain": [
       "array([0.1, 0.2])"
      ]
     },
     "execution_count": 19,
     "metadata": {},
     "output_type": "execute_result"
    }
   ],
   "source": [
    "np.array((10, 20))/100"
   ]
  }
 ],
 "metadata": {
  "kernelspec": {
   "display_name": "Python 3",
   "language": "python",
   "name": "python3"
  },
  "language_info": {
   "codemirror_mode": {
    "name": "ipython",
    "version": 3
   },
   "file_extension": ".py",
   "mimetype": "text/x-python",
   "name": "python",
   "nbconvert_exporter": "python",
   "pygments_lexer": "ipython3",
   "version": "3.6.5"
  }
 },
 "nbformat": 4,
 "nbformat_minor": 2
}
