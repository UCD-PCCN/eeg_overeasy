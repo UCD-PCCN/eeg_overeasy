{
 "cells": [
  {
   "cell_type": "code",
   "execution_count": 5,
   "metadata": {},
   "outputs": [],
   "source": [
    "import eeg_pwr\n",
    "import os\n",
    "import time"
   ]
  },
  {
   "cell_type": "code",
   "execution_count": 6,
   "metadata": {},
   "outputs": [],
   "source": [
    "direct='C:/Users/Phil/Box Sync/Classes/PSC_290_Final/data'\n",
    "mont=os.path.join(direct, 'BP64_acti_64rows.sfp')\n",
    "\n",
    "#event mappings for the test data\n",
    "evMaps={'1': 1, '2': 2, '3': 3, '48': 48, '77': 77, '88':88, '100': 100, '200' : 200}"
   ]
  },
  {
   "cell_type": "code",
   "execution_count": 8,
   "metadata": {},
   "outputs": [
    {
     "name": "stdout",
     "output_type": "stream",
     "text": [
      "  Could not parse meas date from the header. Setting to None.\n"
     ]
    },
    {
     "name": "stderr",
     "output_type": "stream",
     "text": [
      "C:\\Users\\Phil\\Box Sync\\Classes\\PSC_290_Final\\eeg_overeasy\\eeg_pwr.py:61: RuntimeWarning:   Could not parse meas date from the header. Setting to None.\n",
      "  return mne.io.read_raw_cnt(self.file, self.montage)\n"
     ]
    },
    {
     "name": "stdout",
     "output_type": "stream",
     "text": [
      "129 events found\n",
      "Event IDs: [  1   2   3  48  77  88 100 200]\n",
      "  Could not parse meas date from the header. Setting to None.\n"
     ]
    },
    {
     "name": "stderr",
     "output_type": "stream",
     "text": [
      "C:\\Users\\Phil\\Box Sync\\Classes\\PSC_290_Final\\eeg_overeasy\\eeg_pwr.py:61: RuntimeWarning:   Could not parse meas date from the header. Setting to None.\n",
      "  return mne.io.read_raw_cnt(self.file, self.montage)\n"
     ]
    },
    {
     "name": "stdout",
     "output_type": "stream",
     "text": [
      "125 events found\n",
      "Event IDs: [  1   2   3  48  77  88 100 200]\n",
      "  Could not parse meas date from the header. Setting to None.\n"
     ]
    },
    {
     "name": "stderr",
     "output_type": "stream",
     "text": [
      "C:\\Users\\Phil\\Box Sync\\Classes\\PSC_290_Final\\eeg_overeasy\\eeg_pwr.py:61: RuntimeWarning:   Could not parse meas date from the header. Setting to None.\n",
      "  return mne.io.read_raw_cnt(self.file, self.montage)\n"
     ]
    },
    {
     "name": "stdout",
     "output_type": "stream",
     "text": [
      "116 events found\n",
      "Event IDs: [  1   2   3  48  77  88 100 200]\n",
      "  Could not parse meas date from the header. Setting to None.\n"
     ]
    },
    {
     "name": "stderr",
     "output_type": "stream",
     "text": [
      "C:\\Users\\Phil\\Box Sync\\Classes\\PSC_290_Final\\eeg_overeasy\\eeg_pwr.py:61: RuntimeWarning:   Could not parse meas date from the header. Setting to None.\n",
      "  return mne.io.read_raw_cnt(self.file, self.montage)\n"
     ]
    },
    {
     "name": "stdout",
     "output_type": "stream",
     "text": [
      "129 events found\n",
      "Event IDs: [  1   2   3  48  77  88 100 200]\n",
      "  Could not parse meas date from the header. Setting to None.\n"
     ]
    },
    {
     "name": "stderr",
     "output_type": "stream",
     "text": [
      "C:\\Users\\Phil\\Box Sync\\Classes\\PSC_290_Final\\eeg_overeasy\\eeg_pwr.py:61: RuntimeWarning:   Could not parse meas date from the header. Setting to None.\n",
      "  return mne.io.read_raw_cnt(self.file, self.montage)\n"
     ]
    },
    {
     "name": "stdout",
     "output_type": "stream",
     "text": [
      "126 events found\n",
      "Event IDs: [  1   2   3  48  77  88 100 200]\n",
      "  Could not parse meas date from the header. Setting to None.\n"
     ]
    },
    {
     "name": "stderr",
     "output_type": "stream",
     "text": [
      "C:\\Users\\Phil\\Box Sync\\Classes\\PSC_290_Final\\eeg_overeasy\\eeg_pwr.py:61: RuntimeWarning:   Could not parse meas date from the header. Setting to None.\n",
      "  return mne.io.read_raw_cnt(self.file, self.montage)\n"
     ]
    },
    {
     "name": "stdout",
     "output_type": "stream",
     "text": [
      "129 events found\n",
      "Event IDs: [  1   2   3  48  77  88 100 200]\n",
      "  Could not parse meas date from the header. Setting to None.\n"
     ]
    },
    {
     "name": "stderr",
     "output_type": "stream",
     "text": [
      "C:\\Users\\Phil\\Box Sync\\Classes\\PSC_290_Final\\eeg_overeasy\\eeg_pwr.py:61: RuntimeWarning:   Could not parse meas date from the header. Setting to None.\n",
      "  return mne.io.read_raw_cnt(self.file, self.montage)\n"
     ]
    },
    {
     "name": "stdout",
     "output_type": "stream",
     "text": [
      "129 events found\n",
      "Event IDs: [  1   2   3  48  77  88 100 200]\n",
      "  Could not parse meas date from the header. Setting to None.\n"
     ]
    },
    {
     "name": "stderr",
     "output_type": "stream",
     "text": [
      "C:\\Users\\Phil\\Box Sync\\Classes\\PSC_290_Final\\eeg_overeasy\\eeg_pwr.py:61: RuntimeWarning:   Could not parse meas date from the header. Setting to None.\n",
      "  return mne.io.read_raw_cnt(self.file, self.montage)\n"
     ]
    },
    {
     "name": "stdout",
     "output_type": "stream",
     "text": [
      "130 events found\n",
      "Event IDs: [  1   2   3  48  77  88 100 200]\n",
      "  Could not parse meas date from the header. Setting to None.\n"
     ]
    },
    {
     "name": "stderr",
     "output_type": "stream",
     "text": [
      "C:\\Users\\Phil\\Box Sync\\Classes\\PSC_290_Final\\eeg_overeasy\\eeg_pwr.py:61: RuntimeWarning:   Could not parse meas date from the header. Setting to None.\n",
      "  return mne.io.read_raw_cnt(self.file, self.montage)\n"
     ]
    },
    {
     "name": "stdout",
     "output_type": "stream",
     "text": [
      "132 events found\n",
      "Event IDs: [  1   2   3  48  77  88 100 200]\n",
      "129 matching events found\n",
      "Applying baseline correction (mode: mean)\n",
      "Not setting metadata\n",
      "0 projection items activated\n",
      "Loading data for 129 events and 1001 original time points ...\n"
     ]
    },
    {
     "name": "stderr",
     "output_type": "stream",
     "text": [
      "C:\\Users\\Phil\\Box Sync\\Classes\\PSC_290_Final\\eeg_overeasy\\eeg_pwr.py:248: UserWarning: No event mappings specified... Using event codes as names\n",
      "  warnings.warn('No event mappings specified... Using event codes as names')\n"
     ]
    },
    {
     "name": "stdout",
     "output_type": "stream",
     "text": [
      "0 bad epochs dropped\n",
      "125 matching events found\n",
      "Applying baseline correction (mode: mean)\n",
      "Not setting metadata\n",
      "0 projection items activated\n",
      "Loading data for 125 events and 1001 original time points ...\n",
      "0 bad epochs dropped\n",
      "116 matching events found\n",
      "Applying baseline correction (mode: mean)\n",
      "Not setting metadata\n",
      "0 projection items activated\n",
      "Loading data for 116 events and 1001 original time points ...\n",
      "0 bad epochs dropped\n",
      "129 matching events found\n",
      "Applying baseline correction (mode: mean)\n",
      "Not setting metadata\n",
      "0 projection items activated\n",
      "Loading data for 129 events and 1001 original time points ...\n",
      "0 bad epochs dropped\n",
      "126 matching events found\n",
      "Applying baseline correction (mode: mean)\n",
      "Not setting metadata\n",
      "0 projection items activated\n",
      "Loading data for 126 events and 1001 original time points ...\n",
      "0 bad epochs dropped\n",
      "129 matching events found\n",
      "Applying baseline correction (mode: mean)\n",
      "Not setting metadata\n",
      "0 projection items activated\n",
      "Loading data for 129 events and 1001 original time points ...\n",
      "0 bad epochs dropped\n",
      "129 matching events found\n",
      "Applying baseline correction (mode: mean)\n",
      "Not setting metadata\n",
      "0 projection items activated\n",
      "Loading data for 129 events and 1001 original time points ...\n",
      "0 bad epochs dropped\n",
      "130 matching events found\n",
      "Applying baseline correction (mode: mean)\n",
      "Not setting metadata\n",
      "0 projection items activated\n",
      "Loading data for 130 events and 1001 original time points ...\n",
      "0 bad epochs dropped\n",
      "132 matching events found\n",
      "Applying baseline correction (mode: mean)\n",
      "Not setting metadata\n",
      "0 projection items activated\n",
      "Loading data for 132 events and 1001 original time points ...\n",
      "0 bad epochs dropped\n"
     ]
    }
   ],
   "source": [
    "%% capture\n",
    "\n",
    "start1 = time.time()\n",
    "dats=eeg_pwr.boots(fileDir=direct, dataType='cnt', montage=None, eventMap=None)\n",
    "dats.load_data()\n",
    "\n",
    "dats.epoch_subjects(tmin=-.2, tmax=.8, baseline=(None,0.0), \n",
    "                    event=['1', '2', '3'], chans=None, store=True)\n",
    "\n",
    "end1 = time.time()\n",
    "\n",
    "start = time.time()\n",
    "dats.mean_amplitude(flatten_axes=1, boots=1000)\n",
    "end = time.time()"
   ]
  },
  {
   "cell_type": "code",
   "execution_count": null,
   "metadata": {},
   "outputs": [],
   "source": []
  }
 ],
 "metadata": {
  "kernelspec": {
   "display_name": "Python 3",
   "language": "python",
   "name": "python3"
  },
  "language_info": {
   "codemirror_mode": {
    "name": "ipython",
    "version": 3
   },
   "file_extension": ".py",
   "mimetype": "text/x-python",
   "name": "python",
   "nbconvert_exporter": "python",
   "pygments_lexer": "ipython3",
   "version": "3.6.5"
  }
 },
 "nbformat": 4,
 "nbformat_minor": 2
}
