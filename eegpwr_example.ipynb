{
 "cells": [
  {
   "cell_type": "code",
<<<<<<< HEAD
   "execution_count": 3,
=======
   "execution_count": 8,
>>>>>>> parent of 9ab4ed2... added method to access 2nd level stats dynamically rather than static codes; added red text and font to error message; clean unused files
   "metadata": {},
   "outputs": [
    {
     "ename": "NameError",
     "evalue": "name 'self' is not defined",
     "output_type": "error",
     "traceback": [
      "\u001b[0;31m---------------------------------------------------------------------------\u001b[0m",
      "\u001b[0;31mNameError\u001b[0m                                 Traceback (most recent call last)",
      "\u001b[0;32m<ipython-input-3-0847958a5164>\u001b[0m in \u001b[0;36m<module>\u001b[0;34m()\u001b[0m\n\u001b[0;32m----> 1\u001b[0;31m \u001b[0;32mimport\u001b[0m \u001b[0meeg_pwr\u001b[0m\u001b[0;34m\u001b[0m\u001b[0m\n\u001b[0m\u001b[1;32m      2\u001b[0m \u001b[0;32mimport\u001b[0m \u001b[0mos\u001b[0m\u001b[0;34m\u001b[0m\u001b[0m\n\u001b[1;32m      3\u001b[0m \u001b[0;32mimport\u001b[0m \u001b[0mtime\u001b[0m\u001b[0;34m\u001b[0m\u001b[0m\n",
      "\u001b[0;32m~/Dropbox (Personal)/Work/Classes/2018 Spring/Python/FinalProject/eeg_overeasy/eeg_pwr.py\u001b[0m in \u001b[0;36m<module>\u001b[0;34m()\u001b[0m\n\u001b[1;32m    207\u001b[0m             \u001b[0;32mreturn\u001b[0m \u001b[0mnp\u001b[0m\u001b[0;34m.\u001b[0m\u001b[0marray\u001b[0m\u001b[0;34m(\u001b[0m\u001b[0;34m[\u001b[0m\u001b[0mgetattr\u001b[0m\u001b[0;34m(\u001b[0m\u001b[0mnp\u001b[0m\u001b[0;34m,\u001b[0m \u001b[0mk\u001b[0m\u001b[0;34m)\u001b[0m\u001b[0;34m(\u001b[0m\u001b[0mself\u001b[0m\u001b[0;34m.\u001b[0m\u001b[0mboot_store\u001b[0m\u001b[0;34m,\u001b[0m \u001b[0;34m-\u001b[0m\u001b[0;36m1\u001b[0m\u001b[0;34m)\u001b[0m \u001b[0;32mfor\u001b[0m \u001b[0mk\u001b[0m \u001b[0;32min\u001b[0m \u001b[0mstats\u001b[0m\u001b[0;34m]\u001b[0m\u001b[0;34m)\u001b[0m\u001b[0;34m\u001b[0m\u001b[0m\n\u001b[1;32m    208\u001b[0m \u001b[0;34m\u001b[0m\u001b[0m\n\u001b[0;32m--> 209\u001b[0;31m \u001b[0;32mclass\u001b[0m \u001b[0mboots\u001b[0m\u001b[0;34m:\u001b[0m\u001b[0;34m\u001b[0m\u001b[0m\n\u001b[0m\u001b[1;32m    210\u001b[0m     \u001b[0;32mdef\u001b[0m \u001b[0m__init__\u001b[0m\u001b[0;34m(\u001b[0m\u001b[0mself\u001b[0m\u001b[0;34m,\u001b[0m \u001b[0mfileDir\u001b[0m\u001b[0;34m=\u001b[0m\u001b[0;32mNone\u001b[0m\u001b[0;34m,\u001b[0m  \u001b[0mdataType\u001b[0m\u001b[0;34m=\u001b[0m\u001b[0;32mNone\u001b[0m\u001b[0;34m,\u001b[0m \u001b[0mmontage\u001b[0m\u001b[0;34m=\u001b[0m\u001b[0;32mNone\u001b[0m\u001b[0;34m,\u001b[0m \u001b[0meventMap\u001b[0m\u001b[0;34m=\u001b[0m\u001b[0;32mNone\u001b[0m\u001b[0;34m)\u001b[0m\u001b[0;34m:\u001b[0m\u001b[0;34m\u001b[0m\u001b[0m\n\u001b[1;32m    211\u001b[0m \u001b[0;34m\u001b[0m\u001b[0m\n",
      "\u001b[0;32m~/Dropbox (Personal)/Work/Classes/2018 Spring/Python/FinalProject/eeg_overeasy/eeg_pwr.py\u001b[0m in \u001b[0;36mboots\u001b[0;34m()\u001b[0m\n\u001b[1;32m    328\u001b[0m             \u001b[0mplt\u001b[0m\u001b[0;34m.\u001b[0m\u001b[0msavefig\u001b[0m\u001b[0;34m(\u001b[0m\u001b[0;34m(\u001b[0m\u001b[0mos\u001b[0m\u001b[0;34m.\u001b[0m\u001b[0mpath\u001b[0m\u001b[0;34m.\u001b[0m\u001b[0mjoin\u001b[0m\u001b[0;34m(\u001b[0m\u001b[0mself\u001b[0m\u001b[0;34m.\u001b[0m\u001b[0mdirectory\u001b[0m\u001b[0;34m,\u001b[0m \u001b[0;34m'Figures'\u001b[0m\u001b[0;34m,\u001b[0m \u001b[0mdata_key\u001b[0m \u001b[0;34m+\u001b[0m \u001b[0;34m'.png'\u001b[0m\u001b[0;34m)\u001b[0m\u001b[0;34m)\u001b[0m\u001b[0;34m)\u001b[0m\u001b[0;34m\u001b[0m\u001b[0m\n\u001b[1;32m    329\u001b[0m \u001b[0;34m\u001b[0m\u001b[0m\n\u001b[0;32m--> 330\u001b[0;31m     \u001b[0;32mdef\u001b[0m \u001b[0mplot_quality_topo\u001b[0m\u001b[0;34m(\u001b[0m\u001b[0mself\u001b[0m\u001b[0;34m,\u001b[0m \u001b[0mdata\u001b[0m\u001b[0;34m=\u001b[0m\u001b[0mself\u001b[0m\u001b[0;34m.\u001b[0m\u001b[0mmean_error\u001b[0m\u001b[0;34m,\u001b[0m \u001b[0mmontage\u001b[0m\u001b[0;34m=\u001b[0m\u001b[0mmontage\u001b[0m\u001b[0;34m.\u001b[0m\u001b[0mpos\u001b[0m\u001b[0;34m[\u001b[0m\u001b[0;34m:\u001b[0m\u001b[0;34m,\u001b[0m\u001b[0;34m[\u001b[0m\u001b[0;36m0\u001b[0m\u001b[0;34m,\u001b[0m \u001b[0;36m1\u001b[0m\u001b[0;34m]\u001b[0m\u001b[0;34m]\u001b[0m\u001b[0;34m)\u001b[0m\u001b[0;34m:\u001b[0m\u001b[0;34m\u001b[0m\u001b[0m\n\u001b[0m\u001b[1;32m    331\u001b[0m         \u001b[0mplt\u001b[0m \u001b[0;34m=\u001b[0m \u001b[0mmne\u001b[0m\u001b[0;34m.\u001b[0m\u001b[0mviz\u001b[0m\u001b[0;34m.\u001b[0m\u001b[0mplot_topomap\u001b[0m\u001b[0;34m(\u001b[0m\u001b[0mdata\u001b[0m\u001b[0;34m,\u001b[0m \u001b[0mmontage\u001b[0m\u001b[0;34m)\u001b[0m\u001b[0;34m\u001b[0m\u001b[0m\n",
      "\u001b[0;31mNameError\u001b[0m: name 'self' is not defined"
     ]
    }
   ],
   "source": [
    "import eeg_pwr\n",
    "import os\n",
    "import time\n"
   ]
  },
  {
   "cell_type": "code",
   "execution_count": 9,
   "metadata": {},
   "outputs": [],
   "source": [
    "direct='C:/Users/Phil/Box Sync/Classes/PSC_290_Final/data'\n",
    "mont=os.path.join(direct, 'BP64_acti_64rows.sfp')\n",
    "\n",
    "#event mappings for the test data\n",
    "evMaps={'1': 1, '2': 2, '3': 3, '48': 48, '77': 77, '88':88, '100': 100, '200' : 200}"
   ]
  },
  {
   "cell_type": "code",
   "execution_count": 10,
   "metadata": {},
   "outputs": [],
   "source": [
    "%%capture\n",
    "\n",
    "start1 = time.time()\n",
    "dats=eeg_pwr.boots(fileDir=direct, dataType='cnt', montage=None, eventMap=None)\n",
    "dats.load_data()\n",
    "\n",
    "dats.epoch_subjects(tmin=-.2, tmax=.8, baseline=(None,0.0), \n",
    "                    event=['1', '2', '3'], chans=None, store=True)\n",
    "\n",
    "end1 = time.time()\n",
    "\n",
    "start = time.time()\n",
    "dats.mean_amplitude(flatten_axes=1, boots=1000)\n",
    "end = time.time()"
   ]
  },
  {
   "cell_type": "code",
   "execution_count": 13,
   "metadata": {},
   "outputs": [
    {
     "data": {
      "text/plain": [
       "(9, 64)"
      ]
     },
     "execution_count": 13,
     "metadata": {},
     "output_type": "execute_result"
    }
   ],
   "source": [
    "#Access SE estimate for each subject for each electrode\n",
    "dats.boot_SE.shape"
   ]
  },
  {
   "cell_type": "code",
   "execution_count": 14,
   "metadata": {},
   "outputs": [
    {
     "data": {
      "text/plain": [
       "array([2.55844189e-05, 2.75652182e-05, 7.55294058e-06, 6.45894532e-06,\n",
       "       5.73692128e-06, 6.23107872e-06, 9.06296930e-06, 5.71703829e-06,\n",
       "       4.63899054e-06, 4.09641793e-06, 6.30951142e-06, 7.23827909e-06,\n",
       "       4.84721313e-06, 4.01818500e-06, 8.01368446e-06, 7.97440526e-06,\n",
       "       1.11471607e-05, 6.58736668e-06, 5.17256362e-06, 5.38943019e-06,\n",
       "       6.83225565e-06, 9.20952109e-06, 8.29050020e-06, 7.40526555e-06,\n",
       "       6.56906380e-06, 7.14147944e-06, 8.18642970e-06, 8.97383367e-06,\n",
       "       8.88658018e-06, 9.12620775e-06, 8.48927266e-06, 8.97638688e-06,\n",
       "       2.29283456e-05, 1.28457911e-05, 1.21770844e-05, 1.91995962e-05,\n",
       "       8.10553907e-06, 5.48660842e-06, 5.06867200e-06, 8.57792936e-06,\n",
       "       8.50068644e-06, 7.55866758e-06, 4.84462861e-06, 5.89263730e-06,\n",
       "       6.80476688e-06, 8.76130031e-06, 6.43942898e-06, 5.07134375e-06,\n",
       "       5.26440656e-06, 6.92532386e-06, 7.41313262e-06, 5.36414582e-06,\n",
       "       5.44147727e-06, 5.73157639e-06, 8.73727751e-06, 7.55620910e-06,\n",
       "       7.03684287e-06, 6.50448903e-06, 7.78122361e-06, 8.39555720e-06,\n",
       "       8.64811964e-06, 8.53971528e-06, 8.80352856e-06, 8.24229896e-06])"
      ]
     },
     "execution_count": 14,
     "metadata": {},
     "output_type": "execute_result"
    }
   ],
   "source": [
    "#Access mean SE for each electrode\\\n",
    "dats.mean_error"
   ]
  },
  {
   "cell_type": "code",
   "execution_count": 15,
   "metadata": {},
   "outputs": [
    {
     "data": {
      "text/plain": [
       "array([1.20901082e-05, 1.30108678e-05, 3.46251436e-06, 2.42920289e-06,\n",
       "       2.71241477e-06, 2.23784147e-06, 2.15618032e-06, 1.80285205e-06,\n",
       "       2.23568725e-06, 1.48203143e-06, 1.81329789e-06, 1.77435596e-06,\n",
       "       1.51101372e-06, 2.23008286e-06, 5.90192012e-06, 1.55062945e-06,\n",
       "       4.54755675e-06, 1.91814194e-06, 1.17081834e-06, 1.74862120e-06,\n",
       "       1.60925530e-06, 2.62877447e-06, 2.91254008e-06, 2.17823211e-06,\n",
       "       1.69214514e-06, 1.99589685e-06, 2.47212334e-06, 2.82364100e-06,\n",
       "       3.02616785e-06, 3.06561402e-06, 2.26825547e-06, 2.39035490e-06,\n",
       "       9.60294529e-06, 7.37374696e-06, 4.93846931e-06, 7.93132748e-06,\n",
       "       2.38782305e-06, 2.33930323e-06, 2.24073857e-06, 2.80004153e-06,\n",
       "       2.50161235e-06, 2.72688813e-06, 1.52666129e-06, 2.06640320e-06,\n",
       "       1.79781899e-06, 1.66169889e-06, 2.46467705e-06, 2.07991236e-06,\n",
       "       2.74254914e-06, 1.89272195e-06, 2.17951665e-06, 1.47428657e-06,\n",
       "       1.93380749e-06, 1.87739861e-06, 2.14936661e-06, 2.17331882e-06,\n",
       "       1.95264672e-06, 2.50274612e-06, 2.39739172e-06, 2.89930300e-06,\n",
       "       2.67190610e-06, 2.55540498e-06, 3.46632124e-06, 2.56069069e-06])"
      ]
     },
     "execution_count": 15,
     "metadata": {},
     "output_type": "execute_result"
    }
   ],
   "source": [
    "#Access error SD\n",
    "dats.mean_stdError"
   ]
  },
  {
   "cell_type": "code",
   "execution_count": null,
   "metadata": {},
   "outputs": [],
<<<<<<< HEAD
   "source": [
    "# plot data quality topomap\n",
    "dats."
   ]
=======
   "source": []
>>>>>>> parent of 9ab4ed2... added method to access 2nd level stats dynamically rather than static codes; added red text and font to error message; clean unused files
  }
 ],
 "metadata": {
  "kernelspec": {
   "display_name": "Python 3",
   "language": "python",
   "name": "python3"
  },
  "language_info": {
   "codemirror_mode": {
    "name": "ipython",
    "version": 3
   },
   "file_extension": ".py",
   "mimetype": "text/x-python",
   "name": "python",
   "nbconvert_exporter": "python",
   "pygments_lexer": "ipython3",
   "version": "3.6.4"
  }
 },
 "nbformat": 4,
 "nbformat_minor": 2
}
