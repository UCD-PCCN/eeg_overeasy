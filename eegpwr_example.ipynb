{
 "cells": [
  {
   "cell_type": "code",
   "execution_count": 1,
   "metadata": {},
   "outputs": [],
   "source": [
    "import eeg_pwr\n",
    "import os"
   ]
  },
  {
   "cell_type": "code",
   "execution_count": 2,
   "metadata": {},
   "outputs": [],
   "source": [
    "direct='C:/Users/Phil/Box Sync/Classes/PSC_290_Final/data'\n",
    "mont=os.path.join(direct, 'BP64_acti_64rows.sfp')\n",
    "\n",
    "#event mappings for the test data\n",
    "evMaps={'1': 1, '2': 2, '3': 3, '48': 48, '77': 77, '88':88, '100': 100, '200' : 200}"
   ]
  },
  {
   "cell_type": "code",
   "execution_count": 4,
   "metadata": {},
   "outputs": [],
   "source": [
    "%%capture\n",
    "\n",
    "#initate class, load data, create epochs and bootstrap data\n",
    "dats=eeg_pwr.boots(fileDir=direct, dataType='cnt', montage=None, eventMap=None)\n",
    "dats.load_data()\n",
    "\n",
    "dats.epoch_subjects(tmin=-.2, tmax=.8, baseline=(None,0.0), \n",
    "                    event=['1', '2', '3'], chans=None, store=True)\n",
    "\n",
    "dats.mean_amplitude(flatten_axes=1, boots=10)\n"
   ]
  },
  {
   "cell_type": "code",
   "execution_count": 8,
   "metadata": {},
   "outputs": [
    {
     "data": {
      "text/plain": [
       "array([8.25109627e-06, 8.22582492e-06, 5.70372461e-06, 4.35843364e-06,\n",
       "       1.04160726e-05, 1.03933543e-05, 9.69885220e-06, 6.98553273e-06,\n",
       "       5.42124009e-06])"
      ]
     },
     "execution_count": 8,
     "metadata": {},
     "output_type": "execute_result"
    }
   ],
   "source": [
    "#access mean SE across electrodes for each subject\n",
    "dats.get_error(across='electrode', type='mean')"
   ]
  },
  {
   "cell_type": "code",
   "execution_count": null,
   "metadata": {},
   "outputs": [],
   "source": []
  }
 ],
 "metadata": {
  "kernelspec": {
   "display_name": "Python 3",
   "language": "python",
   "name": "python3"
  },
  "language_info": {
   "codemirror_mode": {
    "name": "ipython",
    "version": 3
   },
   "file_extension": ".py",
   "mimetype": "text/x-python",
   "name": "python",
   "nbconvert_exporter": "python",
   "pygments_lexer": "ipython3",
   "version": "3.6.5"
  }
 },
 "nbformat": 4,
 "nbformat_minor": 2
}
