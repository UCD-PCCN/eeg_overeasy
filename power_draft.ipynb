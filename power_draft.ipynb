{
 "cells": [
  {
   "cell_type": "markdown",
   "metadata": {},
   "source": [
    "## Drafts on t tests and power analyses\n",
    "\n",
    "The power analysis is at the bottom"
   ]
  },
  {
   "cell_type": "code",
   "execution_count": 309,
   "metadata": {},
   "outputs": [],
   "source": [
    "# most of these arent used here\n",
    "\n",
    "#import mne \n",
    "import numpy as np\n",
    "import pandas as pd\n",
    "import os\n",
    "import glob\n",
    "from matplotlib import pyplot as plt\n",
    "import sys\n",
    "import warnings\n",
    "import seaborn as sns\n",
    "from itertools import product as prod\n",
    "\n",
    "# temporary (used only here)\n",
    "from scipy import stats\n",
    "from statsmodels.stats.power import ttest_power, tt_ind_solve_power\n",
    "\n"
   ]
  },
  {
   "cell_type": "markdown",
   "metadata": {},
   "source": [
    "Doing t-tests on arrays, if we wanted to do this at some point"
   ]
  },
  {
   "cell_type": "code",
   "execution_count": 314,
   "metadata": {},
   "outputs": [],
   "source": [
    "# create fake arrays of SEs, using 4 electrodes\n",
    "arr_ele = np.array([.01,1,5,10])\n",
    "\n",
    "# fake subjects and effect sizes\n",
    "Subs = [15,20,25,30]\n",
    "effect = [1,2,3,5]\n"
   ]
  },
  {
   "cell_type": "code",
   "execution_count": 315,
   "metadata": {},
   "outputs": [],
   "source": [
    "# t tests with simple array\n",
    "\n",
    "t_arr = np.zeros((len(arr_ele), len(Subs), len(effect))) \n",
    "p_arr = np.zeros((len(arr_ele), len(Subs), len(effect)))\n",
    "\n",
    "for ele in range(len(arr_ele)):  # loop over electrodes\n",
    "    BESE = arr_simp[ele]\n",
    "    \n",
    "    for s in range(len(Subs)):    # loop over sample sizes\n",
    "        n = Subs[s]\n",
    "        df = 2*n - 2              # get degrees of freedom (based on sample size)\n",
    "        \n",
    "        for ef in range(len(effect)):          # loop over effect sizes\n",
    "            t = effect[ef] / (BESE/np.sqrt(n)) # get t value \n",
    "            t_arr[ele][s][ef] = t              # save t value\n",
    "            \n",
    "            p = 1 - stats.t.cdf(t,df=df)       # get p value\n",
    "            p_arr[ele][s][ef] = p              # save p value\n"
   ]
  },
  {
   "cell_type": "code",
   "execution_count": 316,
   "metadata": {},
   "outputs": [
    {
     "name": "stdout",
     "output_type": "stream",
     "text": [
      "[[[ 3.87298335  7.74596669 11.61895004 19.36491673]\n",
      "  [ 4.47213595  8.94427191 13.41640786 22.36067977]\n",
      "  [ 5.         10.         15.         25.        ]\n",
      "  [ 5.47722558 10.95445115 16.43167673 27.38612788]]\n",
      "\n",
      " [[ 1.93649167  3.87298335  5.80947502  9.68245837]\n",
      "  [ 2.23606798  4.47213595  6.70820393 11.18033989]\n",
      "  [ 2.5         5.          7.5        12.5       ]\n",
      "  [ 2.73861279  5.47722558  8.21583836 13.69306394]]\n",
      "\n",
      " [[ 1.29099445  2.5819889   3.87298335  6.45497224]\n",
      "  [ 1.49071198  2.98142397  4.47213595  7.45355992]\n",
      "  [ 1.66666667  3.33333333  5.          8.33333333]\n",
      "  [ 1.82574186  3.65148372  5.47722558  9.12870929]]\n",
      "\n",
      " [[ 0.77459667  1.54919334  2.32379001  3.87298335]\n",
      "  [ 0.89442719  1.78885438  2.68328157  4.47213595]\n",
      "  [ 1.          2.          3.          5.        ]\n",
      "  [ 1.09544512  2.19089023  3.28633535  5.47722558]]]\n",
      "[[[2.95046492e-04 9.71734049e-09 1.58861813e-12 0.00000000e+00]\n",
      "  [3.39951142e-05 3.44879680e-11 3.33066907e-16 0.00000000e+00]\n",
      "  [4.03083259e-06 1.26676447e-13 0.00000000e+00 0.00000000e+00]\n",
      "  [4.86827680e-07 4.44089210e-16 0.00000000e+00 0.00000000e+00]]\n",
      "\n",
      " [[3.14797843e-02 2.95046492e-04 1.52971314e-06 9.76386749e-11]\n",
      "  [1.56487342e-02 3.39951142e-05 3.06019163e-08 7.02771175e-14]\n",
      "  [7.94484547e-03 4.03083259e-06 6.32174757e-10 1.11022302e-16]\n",
      "  [4.09079077e-03 4.86827680e-07 1.33266731e-11 0.00000000e+00]]\n",
      "\n",
      " [[1.03631640e-01 7.67364746e-03 2.95046492e-04 2.71435824e-07]\n",
      "  [7.21460158e-02 2.49254984e-03 3.39951142e-05 3.01822090e-09]\n",
      "  [5.10469518e-02 8.29677203e-04 4.03083259e-06 3.46831452e-11]\n",
      "  [3.65192758e-02 2.80643553e-04 4.86827680e-07 4.06896739e-13]]\n",
      "\n",
      " [[2.22535110e-01 6.62826888e-02 1.38089812e-02 2.95046492e-04]\n",
      "  [1.88361884e-01 4.08062083e-02 5.36802799e-03 3.39951142e-05]\n",
      "  [1.61162609e-01 2.55879669e-02 2.13583112e-03 4.03083259e-06]\n",
      "  [1.38924857e-01 1.62456996e-02 8.62967946e-04 4.86827680e-07]]]\n"
     ]
    }
   ],
   "source": [
    "# t values\n",
    "print(t_arr)\n",
    "# p values\n",
    "print(p_arr)"
   ]
  },
  {
   "cell_type": "markdown",
   "metadata": {},
   "source": [
    "### Power analysis on 1d arrays"
   ]
  },
  {
   "cell_type": "code",
   "execution_count": 317,
   "metadata": {},
   "outputs": [],
   "source": [
    "# fake arrays\n",
    "\n",
    "Subs = [1,10,20,50]\n",
    "effects = [1, 2, 3, 5]\n",
    "arr_ele = np.array([.1,2,3,10])\n"
   ]
  },
  {
   "cell_type": "code",
   "execution_count": 318,
   "metadata": {},
   "outputs": [],
   "source": [
    "pwrs = np.zeros((len(arr_ele), len(Subs), len(effects)))\n",
    "\n",
    "for ele in range(len(arr_ele)):  # loop over electrodes\n",
    "    BESE = arr_simp[ele]\n",
    "    \n",
    "    for s in range(len(Subs)):    # loop over sample sizes\n",
    "        n = Subs[s]\n",
    "        SD = BESE/(np.sqrt(n))    # get SD from BESE (maybe wrong)\n",
    "        #null_dist = np.random.normal(loc = 0, scale = SD, size = 1000)     # make null distribution\n",
    "        crit = 1.96*SD                                                      # get critical value\n",
    "        \n",
    "        for effect in range(len(effects)):                                  # loop over effect sizes\n",
    "            ef = effects[effect]\n",
    "            alt_dist = np.random.normal(loc = ef, scale = SD, size = 10000) # make alternative distribution \n",
    "            pwr = len(alt_dist[alt_dist>crit])/len(alt_dist)\n",
    "            \n",
    "            pwrs[ele][s][effect] = pwr              # save power \n"
   ]
  },
  {
   "cell_type": "code",
   "execution_count": 319,
   "metadata": {},
   "outputs": [
    {
     "data": {
      "text/plain": [
       "array([[[0.1689, 0.5104, 0.8495, 0.9983],\n",
       "        [0.887 , 1.    , 1.    , 1.    ],\n",
       "        [0.9941, 1.    , 1.    , 1.    ],\n",
       "        [1.    , 1.    , 1.    , 1.    ]],\n",
       "\n",
       "       [[0.0712, 0.171 , 0.3198, 0.7061],\n",
       "        [0.349 , 0.8848, 0.9978, 1.    ],\n",
       "        [0.6073, 0.9945, 1.    , 1.    ],\n",
       "        [0.9456, 1.    , 1.    , 1.    ]],\n",
       "\n",
       "       [[0.0533, 0.0949, 0.1598, 0.3842],\n",
       "        [0.1907, 0.5552, 0.8833, 0.9996],\n",
       "        [0.3255, 0.8411, 0.9943, 1.    ],\n",
       "        [0.6525, 0.9975, 1.    , 1.    ]],\n",
       "\n",
       "       [[0.0363, 0.0652, 0.0878, 0.171 ],\n",
       "        [0.0895, 0.2464, 0.475 , 0.8795],\n",
       "        [0.1405, 0.4405, 0.7658, 0.9941],\n",
       "        [0.3001, 0.8058, 0.9883, 1.    ]]])"
      ]
     },
     "execution_count": 319,
     "metadata": {},
     "output_type": "execute_result"
    }
   ],
   "source": [
    "pwrs"
   ]
  },
  {
   "cell_type": "markdown",
   "metadata": {},
   "source": [
    "### Power analysis with 2d array input (for item option)"
   ]
  },
  {
   "cell_type": "code",
   "execution_count": 218,
   "metadata": {},
   "outputs": [
    {
     "data": {
      "text/plain": [
       "array([[ 1,  2,  3,  4],\n",
       "       [ 2,  4,  6,  8],\n",
       "       [ 3,  6,  9, 12]])"
      ]
     },
     "execution_count": 218,
     "metadata": {},
     "output_type": "execute_result"
    }
   ],
   "source": [
    "# now for the item option...\n",
    "\n",
    "# here, we will have to make effect size be a constant\n",
    "\n",
    "effect = 2\n",
    "Subs = [1,10] # usually would be 4\n",
    "\n",
    "# sample array\n",
    "arr_item = np.array([[1,2,3,4],[2,4,6,8],[3,6,9,12]]) # rows are items(usually would be 4), columns are electrodes\n",
    "arr_item"
   ]
  },
  {
   "cell_type": "code",
   "execution_count": 219,
   "metadata": {},
   "outputs": [],
   "source": [
    "pwrs_i = np.zeros((arr_item.shape[1], arr_item.shape[0], len(Subs)))\n",
    "\n",
    "for ele in range(arr_item.shape[1]):  # loop over electrodes\n",
    "    \n",
    "    for item in range(arr_item.shape[0]):    # loop over item samples\n",
    "        BESE = arr_item[item][ele]\n",
    "          \n",
    "        for s in range(len(Subs)):               # loop over subject samples\n",
    "            n = Subs[s]\n",
    "            SD = BESE/(np.sqrt(n))                                              # get SD from BESE (maybe wrong)\n",
    "            crit = 1.96*SD                                                      # get critical value\n",
    "            alt_dist = np.random.normal(loc = effect, scale = SD, size = 10000) # make alternative distribution \n",
    "            pwr_i = len(alt_dist[alt_dist>crit])/len(alt_dist)                  # get power\n",
    "            \n",
    "            pwrs_i[ele][item][s] = pwr_i                                        # store powers"
   ]
  },
  {
   "cell_type": "code",
   "execution_count": 220,
   "metadata": {},
   "outputs": [
    {
     "data": {
      "text/plain": [
       "array([[[0.5169, 1.    ],\n",
       "        [0.1642, 0.8839],\n",
       "        [0.0959, 0.5561]],\n",
       "\n",
       "       [[0.1641, 0.8805],\n",
       "        [0.0694, 0.3477],\n",
       "        [0.0521, 0.1753]],\n",
       "\n",
       "       [[0.0964, 0.5646],\n",
       "        [0.0514, 0.1849],\n",
       "        [0.0409, 0.1019]],\n",
       "\n",
       "       [[0.0703, 0.3644],\n",
       "        [0.0443, 0.128 ],\n",
       "        [0.0343, 0.0736]]])"
      ]
     },
     "execution_count": 220,
     "metadata": {},
     "output_type": "execute_result"
    }
   ],
   "source": [
    "pwrs_i # z = electrodes, y = subs, x = item samples"
   ]
  },
  {
   "cell_type": "markdown",
   "metadata": {},
   "source": [
    "# The two combined in function\n",
    "\n",
    "Not the final committed version\n",
    "(the one in eeg_pwr doesnt have item analysis)\n",
    "\n",
    "Does normal power analysis if the input BESE array is 1d;\n",
    "does the item version if the input BESE array is 2d"
   ]
  },
  {
   "cell_type": "code",
   "execution_count": 331,
   "metadata": {},
   "outputs": [],
   "source": [
    "def eeg_pwr(SE_array , Subs , Effects):\n",
    "    \n",
    "    if len(SE_array.shape) == 1:           # Array of electrode BESEs\n",
    "        \n",
    "        pwrs = np.zeros((len(SE_array), len(Subs), len(Effects)))  \n",
    "\n",
    "        for ele in range(len(SE_array)):  # loop over electrodes\n",
    "            BESE = arr_simp[ele]\n",
    "\n",
    "            for s in range(len(Subs)):    # loop over sample sizes\n",
    "                n = Subs[s]\n",
    "                SD = BESE/(np.sqrt(n))    # get SD from BESE (maybe wrong)\n",
    "                crit = 1.96*SD            # get critical value\n",
    "\n",
    "                for effect in range(len(Effects)):                                  # loop over effect sizes\n",
    "                    ef = Effects[effect]\n",
    "                    alt_dist = np.random.normal(loc = ef, scale = SD, size = 10000) # make alternative distribution \n",
    "                    pwr = len(alt_dist[alt_dist>crit])/len(alt_dist)\n",
    "\n",
    "                    pwrs[ele][s][effect] = pwr              # save power\n",
    "                    \n",
    "        return pwrs\n",
    "        \n",
    "    if len(SE_array.shape) == 2:          # Array of electrode BESEs for different numbers of items used in bootstrap\n",
    "        \n",
    "        pwrs_i = np.zeros((SE_array.shape[1], SE_array.shape[0], len(Subs)))\n",
    "\n",
    "        for ele in range(SE_array.shape[1]):         # loop over electrodes\n",
    "\n",
    "            for item in range(SE_array.shape[0]):    # loop over item samples\n",
    "                BESE = SE_array[item][ele]\n",
    "\n",
    "                for s in range(len(Subs)):               # loop over subject samples\n",
    "                    n = Subs[s]\n",
    "                    SD = BESE/(np.sqrt(n))                                              # get SD from BESE (maybe wrong)\n",
    "                    crit = 1.96*SD                                                      # get critical value\n",
    "                    alt_dist = np.random.normal(loc = Effects, scale = SD, size = 10000)# make alternative distribution \n",
    "                    pwr_i = len(alt_dist[alt_dist>crit])/len(alt_dist)                  # get power\n",
    "\n",
    "                    pwrs_i[ele][item][s] = pwr_i                                        # store powers\n",
    "                    \n",
    "        return pwrs_i\n",
    "    \n",
    "    else:\n",
    "        print('Function requires 1 or 2 dimension array')"
   ]
  },
  {
   "cell_type": "markdown",
   "metadata": {},
   "source": [
    "Testing...."
   ]
  },
  {
   "cell_type": "code",
   "execution_count": 332,
   "metadata": {},
   "outputs": [
    {
     "data": {
      "text/plain": [
       "array([[[0.5154, 0.8498, 0.9757],\n",
       "        [0.9999, 1.    , 1.    ]],\n",
       "\n",
       "       [[0.1669, 0.3213, 0.5179],\n",
       "        [0.889 , 0.9973, 1.    ]],\n",
       "\n",
       "       [[0.0945, 0.1743, 0.2631],\n",
       "        [0.566 , 0.8896, 0.9877]],\n",
       "\n",
       "       [[0.0623, 0.087 , 0.1202],\n",
       "        [0.2456, 0.4737, 0.7152]]])"
      ]
     },
     "execution_count": 332,
     "metadata": {},
     "output_type": "execute_result"
    }
   ],
   "source": [
    "#test 1d\n",
    "effects = [2,3,4]\n",
    "subs = [1,10] # usually would be 4\n",
    "array_simp = np.array([1,2,3,4])\n",
    "\n",
    "test_1 = eeg_pwr(SE_array = array_simp, Effects = effects, Subs = subs)\n",
    "test_1"
   ]
  },
  {
   "cell_type": "code",
   "execution_count": 330,
   "metadata": {},
   "outputs": [
    {
     "data": {
      "text/plain": [
       "array([[[1.    , 1.    ],\n",
       "        [0.1628, 0.8906],\n",
       "        [0.0933, 0.5629]],\n",
       "\n",
       "       [[1.    , 1.    ],\n",
       "        [0.0728, 0.3583],\n",
       "        [0.0484, 0.1807]],\n",
       "\n",
       "       [[1.    , 1.    ],\n",
       "        [0.0507, 0.1802],\n",
       "        [0.0381, 0.1064]],\n",
       "\n",
       "       [[0.999 , 1.    ],\n",
       "        [0.0458, 0.1225],\n",
       "        [0.035 , 0.0745]]])"
      ]
     },
     "execution_count": 330,
     "metadata": {},
     "output_type": "execute_result"
    }
   ],
   "source": [
    "#test 2d\n",
    "effect = [2] # now just 1\n",
    "subs = [1,10] # usually would be 4\n",
    "array_2 = np.array([[.1,.2,.3,.4],[2,4,6,8],[3,6,9,12]]) \n",
    "\n",
    "test_2 = eeg_pwr(SE_array = array_2, Effects = effect, Subs = subs)\n",
    "test_2\n"
   ]
  }
 ],
 "metadata": {
  "kernelspec": {
   "display_name": "Python 3",
   "language": "python",
   "name": "python3"
  },
  "language_info": {
   "codemirror_mode": {
    "name": "ipython",
    "version": 3
   },
   "file_extension": ".py",
   "mimetype": "text/x-python",
   "name": "python",
   "nbconvert_exporter": "python",
   "pygments_lexer": "ipython3",
   "version": "3.6.4"
  }
 },
 "nbformat": 4,
 "nbformat_minor": 2
}
