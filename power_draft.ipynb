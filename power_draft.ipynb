{
 "cells": [
  {
   "cell_type": "code",
   "execution_count": 56,
   "metadata": {},
   "outputs": [],
   "source": [
    "# part of power analysis function #\n",
    "# assuming I can get an array of SEs #\n",
    "\n",
    "#import mne\n",
    "import numpy as np\n",
    "import pandas as pd\n",
    "import os\n",
    "import glob\n",
    "from matplotlib import pyplot as plt\n",
    "import sys\n",
    "import warnings\n",
    "import seaborn as sns\n",
    "from itertools import product as prod\n",
    "\n",
    "# temporary \n",
    "from scipy import stats\n",
    "from statsmodels.stats.power import ttest_power, tt_ind_solve_power\n",
    "\n"
   ]
  },
  {
   "cell_type": "code",
   "execution_count": 210,
   "metadata": {},
   "outputs": [],
   "source": [
    "# create arrays of SEs, using 4 electrodes\n",
    "\n",
    "arr_ele = np.array([.01,1,2,10])\n",
    "\n",
    "# fake subjects and effect sizes\n",
    "Subs = [20,25,30,35]\n",
    "effect = [3, 5]\n"
   ]
  },
  {
   "cell_type": "code",
   "execution_count": 211,
   "metadata": {},
   "outputs": [],
   "source": [
    "# t tests with simple array\n",
    "\n",
    "t_arr = np.zeros((len(arr_ele), len(Subs), len(effect)))\n",
    "p_arr = np.zeros((len(arr_ele), len(Subs), len(effect)))\n",
    "\n",
    "for ele in range(len(arr_ele)):  # loop over electrodes\n",
    "    BESE = arr_simp[ele]\n",
    "    \n",
    "    for s in range(len(Subs)):    # loop over sample sizes\n",
    "        n = Subs[s]\n",
    "        df = 2*n - 2              # get degrees of freedom (based on sample size)\n",
    "        \n",
    "        for ef in range(len(effect)):          # loop over effect sizes\n",
    "            t = effect[ef] / (BESE/np.sqrt(n)) # get t value \n",
    "            t_arr[ele][s][ef] = t              # save t value\n",
    "            \n",
    "            p = 1 - stats.t.cdf(t,df=df)       # get p value\n",
    "            p_arr[ele][s][ef] = p              # save p value\n"
   ]
  },
  {
   "cell_type": "code",
   "execution_count": 212,
   "metadata": {},
   "outputs": [
    {
     "name": "stdout",
     "output_type": "stream",
     "text": [
      "[[[1.34164079e+03 2.23606798e+03]\n",
      "  [1.50000000e+03 2.50000000e+03]\n",
      "  [1.64316767e+03 2.73861279e+03]\n",
      "  [1.77482393e+03 2.95803989e+03]]\n",
      "\n",
      " [[1.34164079e+01 2.23606798e+01]\n",
      "  [1.50000000e+01 2.50000000e+01]\n",
      "  [1.64316767e+01 2.73861279e+01]\n",
      "  [1.77482393e+01 2.95803989e+01]]\n",
      "\n",
      " [[6.70820393e+00 1.11803399e+01]\n",
      "  [7.50000000e+00 1.25000000e+01]\n",
      "  [8.21583836e+00 1.36930639e+01]\n",
      "  [8.87411967e+00 1.47901995e+01]]\n",
      "\n",
      " [[1.34164079e+00 2.23606798e+00]\n",
      "  [1.50000000e+00 2.50000000e+00]\n",
      "  [1.64316767e+00 2.73861279e+00]\n",
      "  [1.77482393e+00 2.95803989e+00]]]\n"
     ]
    }
   ],
   "source": [
    "# t values\n",
    "print(t_arr)"
   ]
  },
  {
   "cell_type": "code",
   "execution_count": 213,
   "metadata": {},
   "outputs": [
    {
     "name": "stdout",
     "output_type": "stream",
     "text": [
      "[[[0.00000000e+00 0.00000000e+00]\n",
      "  [0.00000000e+00 0.00000000e+00]\n",
      "  [0.00000000e+00 0.00000000e+00]\n",
      "  [0.00000000e+00 0.00000000e+00]]\n",
      "\n",
      " [[3.33066907e-16 0.00000000e+00]\n",
      "  [0.00000000e+00 0.00000000e+00]\n",
      "  [0.00000000e+00 0.00000000e+00]\n",
      "  [0.00000000e+00 0.00000000e+00]]\n",
      "\n",
      " [[3.06019163e-08 7.02771175e-14]\n",
      "  [6.32174757e-10 1.11022302e-16]\n",
      "  [1.33266731e-11 0.00000000e+00]\n",
      "  [2.84883228e-13 0.00000000e+00]]\n",
      "\n",
      " [[9.38377405e-02 1.56487342e-02]\n",
      "  [7.00818569e-02 7.94484547e-03]\n",
      "  [5.28795835e-02 4.09079077e-03]\n",
      "  [4.02012659e-02 2.12778133e-03]]]\n"
     ]
    }
   ],
   "source": [
    "# p values\n",
    "print ( p_arr)"
   ]
  },
  {
   "cell_type": "code",
   "execution_count": 215,
   "metadata": {},
   "outputs": [],
   "source": [
    "# fake arrays\n",
    "\n",
    "Subs = [1,10,20,50]\n",
    "effects = [1, 2, 3, 5]\n",
    "arr_ele = np.array([1,2,3,5])\n"
   ]
  },
  {
   "cell_type": "code",
   "execution_count": 216,
   "metadata": {},
   "outputs": [],
   "source": [
    "pwrs = np.zeros((len(arr_ele), len(Subs), len(effects)))\n",
    "\n",
    "for ele in range(len(arr_ele)):  # loop over electrodes\n",
    "    BESE = arr_simp[ele]\n",
    "    \n",
    "    for s in range(len(Subs)):    # loop over sample sizes\n",
    "        n = Subs[s]\n",
    "        SD = BESE/(np.sqrt(n))    # get SD from BESE (maybe wrong)\n",
    "        #null_dist = np.random.normal(loc = 0, scale = SD, size = 1000)     # make null distribution\n",
    "        crit = 1.96*SD                                                      # get critical value\n",
    "        \n",
    "        for effect in range(len(effects)):                                  # loop over effect sizes\n",
    "            ef = effects[effect]\n",
    "            alt_dist = np.random.normal(loc = ef, scale = SD, size = 10000) # make alternative distribution \n",
    "            pwr = len(alt_dist[alt_dist>crit])/len(alt_dist)\n",
    "            \n",
    "            pwrs[ele][s][effect] = pwr              # save power \n"
   ]
  },
  {
   "cell_type": "code",
   "execution_count": 217,
   "metadata": {},
   "outputs": [
    {
     "data": {
      "text/plain": [
       "array([[[0.1691, 0.521 , 0.8568, 0.9991],\n",
       "        [0.8871, 1.    , 1.    , 1.    ],\n",
       "        [0.994 , 1.    , 1.    , 1.    ],\n",
       "        [1.    , 1.    , 1.    , 1.    ]],\n",
       "\n",
       "       [[0.0727, 0.1648, 0.3229, 0.7146],\n",
       "        [0.3586, 0.8831, 0.9984, 1.    ],\n",
       "        [0.6076, 0.9947, 1.    , 1.    ],\n",
       "        [0.9425, 1.    , 1.    , 1.    ]],\n",
       "\n",
       "       [[0.0475, 0.0963, 0.1751, 0.3805],\n",
       "        [0.1844, 0.5604, 0.8867, 0.9996],\n",
       "        [0.3154, 0.8448, 0.9951, 1.    ],\n",
       "        [0.6541, 0.9975, 1.    , 1.    ]],\n",
       "\n",
       "       [[0.0386, 0.0588, 0.0848, 0.175 ],\n",
       "        [0.0923, 0.242 , 0.4765, 0.8848],\n",
       "        [0.1431, 0.437 , 0.7632, 0.9946],\n",
       "        [0.2884, 0.8076, 0.9887, 1.    ]]])"
      ]
     },
     "execution_count": 217,
     "metadata": {},
     "output_type": "execute_result"
    }
   ],
   "source": [
    "pwrs"
   ]
  },
  {
   "cell_type": "code",
   "execution_count": 218,
   "metadata": {},
   "outputs": [
    {
     "data": {
      "text/plain": [
       "array([[ 1,  2,  3,  4],\n",
       "       [ 2,  4,  6,  8],\n",
       "       [ 3,  6,  9, 12]])"
      ]
     },
     "execution_count": 218,
     "metadata": {},
     "output_type": "execute_result"
    }
   ],
   "source": [
    "# now for the item option...\n",
    "\n",
    "# here, we will have to make effect size be a constant\n",
    "\n",
    "effect = 2\n",
    "Subs = [1,10] # usually would be 4\n",
    "\n",
    "# sample array\n",
    "arr_item = np.array([[1,2,3,4],[2,4,6,8],[3,6,9,12]]) # rows are items(usually would be 4), columns are electrodes\n",
    "arr_item"
   ]
  },
  {
   "cell_type": "code",
   "execution_count": 219,
   "metadata": {},
   "outputs": [],
   "source": [
    "pwrs_i = np.zeros((arr_item.shape[1], arr_item.shape[0], len(Subs)))\n",
    "\n",
    "for ele in range(arr_item.shape[1]):  # loop over electrodes\n",
    "    \n",
    "    for item in range(arr_item.shape[0]):    # loop over item samples\n",
    "        BESE = arr_item[item][ele]\n",
    "          \n",
    "        for s in range(len(Subs)):               # loop over subject samples\n",
    "            n = Subs[s]\n",
    "            SD = BESE/(np.sqrt(n))                                              # get SD from BESE (maybe wrong)\n",
    "            crit = 1.96*SD                                                      # get critical value\n",
    "            alt_dist = np.random.normal(loc = effect, scale = SD, size = 10000) # make alternative distribution \n",
    "            pwr_i = len(alt_dist[alt_dist>crit])/len(alt_dist)                  # get power\n",
    "            \n",
    "            pwrs_i[ele][item][s] = pwr_i                                        # store powers"
   ]
  },
  {
   "cell_type": "code",
   "execution_count": 220,
   "metadata": {},
   "outputs": [
    {
     "data": {
      "text/plain": [
       "array([[[0.5169, 1.    ],\n",
       "        [0.1642, 0.8839],\n",
       "        [0.0959, 0.5561]],\n",
       "\n",
       "       [[0.1641, 0.8805],\n",
       "        [0.0694, 0.3477],\n",
       "        [0.0521, 0.1753]],\n",
       "\n",
       "       [[0.0964, 0.5646],\n",
       "        [0.0514, 0.1849],\n",
       "        [0.0409, 0.1019]],\n",
       "\n",
       "       [[0.0703, 0.3644],\n",
       "        [0.0443, 0.128 ],\n",
       "        [0.0343, 0.0736]]])"
      ]
     },
     "execution_count": 220,
     "metadata": {},
     "output_type": "execute_result"
    }
   ],
   "source": [
    "pwrs_i # z = electrodes, y = subs, x = item samples"
   ]
  },
  {
   "cell_type": "code",
   "execution_count": null,
   "metadata": {},
   "outputs": [],
   "source": []
  }
 ],
 "metadata": {
  "kernelspec": {
   "display_name": "Python 3",
   "language": "python",
   "name": "python3"
  },
  "language_info": {
   "codemirror_mode": {
    "name": "ipython",
    "version": 3
   },
   "file_extension": ".py",
   "mimetype": "text/x-python",
   "name": "python",
   "nbconvert_exporter": "python",
   "pygments_lexer": "ipython3",
   "version": "3.6.5"
  }
 },
 "nbformat": 4,
 "nbformat_minor": 2
}
