{
 "cells": [
  {
   "cell_type": "markdown",
   "metadata": {},
   "source": [
    "# This code functions to organize a large number of unorganized data files by subject ID and data type. \n",
    "\n",
    "# User Input: \n",
    "Takes in the working directory where all the data files and subdirectories containing more data files are in. \n",
    "Takes in the study title. For example, \"LL001_asdfihooiu.eeg\" has subject_title LL, which stands for \"latent learning\", and 001 is the subject id.  \n",
    "\n",
    "# Function Output: \n",
    "Organizes the files by creating a folder for each subject id. Within each subject id folder, there will be subfolders for each data type (eeg, behavioral, eye-tracking, GSR, etc) \n",
    "Relocates the files into corresponding subject folders. \n"
   ]
  },
  {
   "cell_type": "code",
   "execution_count": 603,
   "metadata": {},
   "outputs": [],
   "source": [
    "# This is to test the functions  \n",
    "#User inputs: directory where all files are at, studytitle abbreviation used to identify a study, a dictionary \n",
    "#The dictionary's values are the strings contained in a file name that is to identify a specific data type \n",
    "#For example, \"LL01_Eyes.csv\" contains \"Eyes\" for eyetracking data. \n",
    "#The keys in the dictionary are the folder name that a user wants to name a folder after. \n",
    "#For example, if the user wants to name a folder as \"eye\" for all eye-tracking data labeled under \"Eyes\", then the key to \"Eyes\" is \"eye\" \n",
    "mypath = \"/Users/vividlife/Desktop/Spring 18/PSC290 Python/Data for Testing/Run 1\"\n",
    "studytitle = \"LL\"\n",
    "datType_dic={'eeg':'LTR',\"behavioral\":\"Sample\",\"eye\":\"Eyes\"}\n",
    "#Calls the main function and \n",
    "create_dataFolders(mypath,datType_dic,studytitle)\n"
   ]
  },
  {
   "cell_type": "markdown",
   "metadata": {},
   "source": [
    "# See create_dataFolders() for details \n",
    "\n",
    "# This function calls create_idFolder()\n",
    "\n",
    "This function is implemented after create_idFolder(). In other words, after all files have been moved to the right subject id folders, we use this function to create subfolder within each subject folder for every data type (eeg,behavioral, eyetracking, etc.), then move each file within the subject id folder to the correct subfolder of each data type. \n",
    " \n",
    "The value of each key can be 1. format , eg. \".eeg\" \".csv\" \".mat\" 2. strings that indicate a data type, eg: \"brainwave\",\"eyes\" \n",
    "\n",
    "This function recognizes the format or the strings, and create corresponding data type folders with names as the key specified by the user. "
   ]
  },
  {
   "cell_type": "code",
   "execution_count": 604,
   "metadata": {},
   "outputs": [],
   "source": [
    "def create_dataFolders(mypath,datType_dic,studytitle):\n",
    "\n",
    "    import os \n",
    "    import glob \n",
    "    from os import listdir\n",
    "    from os.path import isfile, join\n",
    "\n",
    "    os.chdir(mypath)#work in the right directory \n",
    "\n",
    "    #fetch unique IDs from create_IDfolders() \n",
    "    unique_ID = create_idFolder(mypath,studytitle) \n",
    "    #print(unique_ID)\n",
    "\n",
    "    folders_togoin=[]#saves all the paths for subject id folders \n",
    "\n",
    "    #find all paths for subject id folders \n",
    "    for id in unique_ID: #loop through each id folder  \n",
    "        current_id_folder = os.path.join(mypath,str(id)) #current id folder that we work in \n",
    "        folders_togoin=folders_togoin+[current_id_folder] \n",
    "    #print(folders_togoin)\n",
    "\n",
    "    #Go to each subject folder and create data category subfolders \n",
    "    for folder in folders_togoin: \n",
    "        os.chdir(folder)\n",
    "\n",
    "        for key in datType_dic: #for each data category \n",
    "            if not os.path.exists(os.path.join(folder,key)):#create the data folder within each subject id folder if there isn't one (well,yes there is none, this is just easier for debugging)\n",
    "                os.makedirs(os.path.join(folder,key)) \n",
    "\n",
    "    #Go to every subject folder again, check if an item is a file (not subdirectory), if is file, then move it to the right data category folder         \n",
    "    for folder in folders_togoin: \n",
    "        os.chdir(folder)  \n",
    "        onlyfiles = [f for f in listdir(folder) if isfile(join(folder, f))]#check if an item is a file \n",
    "        for goodfile in onlyfiles: #to eliminate the .DS_Store file...>_< \n",
    "            if studytitle in goodfile: #relevant file contains the studytitle, but .DS Store doesn't \n",
    "                for key in datType_dic: #loop through the dictionary, and find if the goodfile contains the any value to any key \n",
    "                    if datType_dic[key] in goodfile: \n",
    "                        oldname = os.path.join(folder,goodfile) \n",
    "                        newname = os.path.join(folder,key,goodfile)\n",
    "                        os.rename(oldname,newname) #Move the file to the right data cat subfolder \n",
    "\n",
    "\n",
    "\n",
    "    return \n"
   ]
  },
  {
   "cell_type": "markdown",
   "metadata": {},
   "source": [
    "# See create_idFolder() for details \n",
    "# This function calls subID_return()\n",
    "Search through every file in the directory and subdirectory \n",
    "For every file, check if it contains the study title \n",
    "If it does, then look for the subject id using subID_return function \n",
    "Check if the subject id folder has been created in the main working directory. If not, create one. \n",
    "Put the file into the folder.  \n",
    "\n",
    "This function returns a list of the unique subject IDs for further reference"
   ]
  },
  {
   "cell_type": "code",
   "execution_count": 605,
   "metadata": {},
   "outputs": [],
   "source": [
    "def create_idFolder(mypath,studytitle):\n",
    "    import os \n",
    "    \n",
    "    ID=[] #store all subject IDs \n",
    "    relevantFile_path=[] #to store all relevant files \n",
    "    label_file_id={}#a dictionary that labels each relevant file with a subject id. Key is file path  \n",
    "    \n",
    "    for path, subdirs, files in os.walk(mypath):\n",
    "        for name in files:\n",
    "            if studytitle in name: #if the study title applies->relevant file \n",
    "\n",
    "                relevantFile_path=relevantFile_path+[os.path.join(path,name)]#store that relevant file's path for further use: locate that file into the subject folder \n",
    "             \n",
    "                ID=ID+[subID_return(name,studytitle)]\n",
    "                label_file_id.setdefault(os.path.join(path,name),[subID_return(name,studytitle)]) #tag each file path with its ID \n",
    "                label_file_id[os.path.join(path,name)].append(name)#tag each file path with its file name \n",
    "                #so now each key (file path) has 2 entries, 1st entry: id, 2nd entry: file name \n",
    "                set_ID = set(ID)#convert it to set to get unique IDs\n",
    "                unique_ID = list(set_ID)\n",
    "                \n",
    "    #print(unique_ID)\n",
    "    #print(relevantFile_path)\n",
    "    #print(label_file_id)\n",
    "    #Now that we have all unique IDs, create a folder for each \n",
    "    for id in unique_ID: \n",
    "         \n",
    "        newpath = os.path.join(mypath,id)\n",
    "        if not os.path.exists(newpath):\n",
    "            os.makedirs(newpath)\n",
    "            \n",
    "    #Put each relevant file into the corresponding newly created subject folder \n",
    "    for goodfilepath in relevantFile_path: \n",
    "        #print(label_file_id[goodfile])\n",
    "        #print(goodfilepath)\n",
    "        entries = label_file_id[goodfilepath] # two entries followed the key \n",
    "        filename = str(entries[1]) #filename in string \n",
    "        id=str(entries[0]) #id in string \n",
    "        newpath=os.path.join(mypath,id, filename) #create a new path for the file \n",
    "        #print(newpath)                    \n",
    "        os.rename(goodfilepath, newpath) #move the file to its new path \n",
    "        \n",
    "    return unique_ID"
   ]
  },
  {
   "cell_type": "markdown",
   "metadata": {},
   "source": [
    "# See subID_return() for more details "
   ]
  },
  {
   "cell_type": "markdown",
   "metadata": {},
   "source": [
    "\n",
    "There are 3 possible cases: \n",
    "1. There is a study title, id follows the study title. E.g: \"LL001.eeg\" \n",
    "2. There is a study title, id does not follow the study title. E.g: \"LLasdofi0_001.eeg\" \n",
    "3. There is no study title. E.g: \"001_asdf_1.eeg\" \n",
    "\n",
    "For Case 2: this code treats the first appearance of number after the study title as the subject ID. For example \"LLasdfoi001_2.eeg\" will have subject ID 001, rather than 2, because 001 is the first appearance of number followed by \"LL\". \n",
    "\n",
    "For Case 3: this code treats the first appearance of number as the subject id.  "
   ]
  },
  {
   "cell_type": "markdown",
   "metadata": {},
   "source": [
    "Read the first file's name. If the first entry is a number: case 3 \n",
    "The first file should be the second file in the dirs list, since the first in the list is .DS_Store, which is irrelavant. "
   ]
  },
  {
   "cell_type": "code",
   "execution_count": 606,
   "metadata": {},
   "outputs": [],
   "source": [
    "def subID_return(filename, studytitle):\n",
    "    first_f = filename #file in the working directory \n",
    "\n",
    "    subID=\"\" #initialize subject id for the first file \n",
    "\n",
    "    if first_f[0].isdigit()==False: #check first entry is a number or not, if false, then case 1/case2 \n",
    "\n",
    "        #search for the study title in the file name \n",
    "        idx_studytitle = first_f.find(studytitle) #returns the idx of the studytitle  \n",
    "        idx_afterstudytitle = idx_studytitle+1 #the idx after study title. \n",
    "        idx_subidend=-1#idx that subject id ends \n",
    "        idx_subidstart=-1#idx that subject id starts \n",
    "        #search for the idx where subject id starts, search from 1 idx after where study title ends \n",
    "        for j in range(idx_afterstudytitle,len(first_f)):\n",
    "            if first_f[j].isdigit()==True:  \n",
    "                idx_subidstart=j \n",
    "                break\n",
    "        #search for the idx where subject id ends \n",
    "        for k in range(idx_subidstart+1,len(first_f)): \n",
    "            if first_f[k].isdigit()==False:  \n",
    "                idx_subidend=k \n",
    "                break \n",
    "        #Get subject id in string \n",
    "        subID=subID+first_f[idx_subidstart:idx_subidend] \n",
    "\n",
    "    else: #case 3  \n",
    "        idx_subidend=-1# idx where subject id ends \n",
    "        for k in range(1,len(first_f)): #search from the second entry to the end \n",
    "            if first_f[k].isdigit()==False:  \n",
    "                idx_subidend=k \n",
    "                break  \n",
    "        #Get subject id in string \n",
    "        subID=subID+first_f[0:idx_subidend] # this is from the very beginning of the file name to where the id ends \n",
    "\n",
    "    return subID"
   ]
  }
 ],
 "metadata": {
  "kernelspec": {
   "display_name": "Python 3",
   "language": "python",
   "name": "python3"
  },
  "language_info": {
   "codemirror_mode": {
    "name": "ipython",
    "version": 3
   },
   "file_extension": ".py",
   "mimetype": "text/x-python",
   "name": "python",
   "nbconvert_exporter": "python",
   "pygments_lexer": "ipython3",
   "version": "3.6.4"
  }
 },
 "nbformat": 4,
 "nbformat_minor": 2
}
