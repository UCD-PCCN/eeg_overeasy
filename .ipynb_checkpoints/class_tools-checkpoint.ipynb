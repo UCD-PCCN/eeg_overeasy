{
 "cells": [
  {
   "cell_type": "raw",
   "metadata": {},
   "source": [
    "# eeg_power Class"
   ]
  },
  {
   "cell_type": "code",
   "execution_count": 65,
   "metadata": {},
   "outputs": [],
   "source": [
    "#imports \n",
    "import mne\n",
    "import numpy as np\n",
    "import pandas as pd\n",
    "import os\n",
    "import glob\n",
    "from matplotlib import pyplot as plt\n",
    "import sys\n",
    "\n",
    "import seaborn as sns\n",
    "from itertools import product as prod"
   ]
  },
  {
   "cell_type": "code",
   "execution_count": 121,
   "metadata": {},
   "outputs": [],
   "source": [
    "class eeg_dynamic_read:\n",
    "    def __init__(self, file, montageFile):\n",
    "        self.file=file\n",
    "        self.montage=montageFile\n",
    "    \n",
    "    def read_eeg(self):\n",
    "        eeg_type='read_'+self.file.split('.')[-1]\n",
    "        method=getattr(self, eeg_type, lambda: 'Invalid Type')\n",
    "        return method()\n",
    "        \n",
    "    def read_cnt(self):\n",
    "        return mne.io.read_raw_cnt(self.file,self.montage)\n",
    "\n",
    "\n",
    "\n",
    "class subject:\n",
    "    def __init__(self, ID, data, montage, eventIDs):\n",
    "        \"\"\"\n",
    "        Subject class the contain individual subject data and the methods necessary to \n",
    "        do all within subjects processing and analyses\n",
    "        \n",
    "        ID: (String/Int) - Subject Indetifier\n",
    "        data : (String) - name of data file - automatically loaded into mne with dynamic read\n",
    "        montage : (String) - name of monatage file automatically loaded into mne with dynamic read\n",
    "        eventIDs : (Dict) - mapping of event names to event codes\n",
    "        \n",
    "        \"\"\"\n",
    "        self.ID=ID\n",
    "        self.data=eeg_dynamic_read(data, montage).read_eeg()\n",
    "        self.events=mne.find_events(self.data)\n",
    "        self.event_ID=eventIDs\n",
    "        self.sample_rate=self.data.info['sfreq']\n",
    "        \n",
    "        #data stores for sample data\n",
    "        #electorde x event code x event x time\n",
    "        self.sample_channels=None\n",
    "        self.sample_store=None\n",
    "        self.boot_store=None\n",
    "    \n",
    "    def get_item_eeg(self, tmin=-.2, tmax=.8, baseline=(None,0.0), \n",
    "                         events=None, chans=[], average=False, store=False):\n",
    "        \n",
    "        \"\"\"function epochs the data and returns an electrode x event code x event x sample array, with option\n",
    "        to store in the sample_store attribute.\n",
    "          \n",
    "        tmin : (float/int) - time in seconds to begin epoch\n",
    "        tmax : (float/int) - time in seconds to end epoch\n",
    "        baseline : (tuple of ints) - beginning, end of baseline period\n",
    "        events : (list of strings) - list of events names to pull out\n",
    "        chans : (list of strings) - list of channel names to get data from\n",
    "        average : (boolean) : whether or not to average the data\n",
    "        store : (boolean) : whether or not to store data in the class attribute\n",
    "        \n",
    "        \"\"\"\n",
    "        \n",
    "        if not events:\n",
    "            raise 'Event of Interest Must be specified'\n",
    "        \n",
    "        erp=mne.Epochs(self.data, events=self.events, event_id=self.event_ID, tmin=tmin,\n",
    "                    tmax=tmax, baseline=baseline, preload=True)\n",
    "        \n",
    "        #swap axes 0,1\n",
    "        if average:\n",
    "            ret=erp[event].average(picks=chans)\n",
    "        else:\n",
    "            ret=np.array([erp[event].pick_channels(chans).get_data() for event in events])\n",
    "            \n",
    "            #strutuces the array\n",
    "            ret=np.swapaxes(np.swapaxes(ret, 0, 2), 1, 2)\n",
    "        \n",
    "        #option to store the data as part of the class\n",
    "        #or return in\n",
    "        if store:\n",
    "            self.sample_channels=chans\n",
    "            self.sample_store=ret\n",
    "        else:   \n",
    "            return ret\n",
    "    \n",
    "        \n",
    "    def random_draw(self, array, nDraws=100, sampleSize=10, replacement=True):\n",
    "        '''\n",
    "        returns an array of boot-strapped means along the last axis of the passed array\n",
    "        \n",
    "        array : (nD array)\n",
    "        nDraws : (int) - number of means to generate\n",
    "        sampleSize : (int) - number of sample to take on each draw\n",
    "        replacment : (boolean) - replacement for draws\n",
    "        '''\n",
    "        \n",
    "        if not (sampleSize < array.shape[len(array.shape)-1]) and not replacement:\n",
    "            raise \"Sampling without replacement is limited to N-1 samples. Check sample store array for size\"\n",
    "        \n",
    "        def _make_index(shape):\n",
    "            print(shape)\n",
    "            '''takes in array shape tuple and out puts a list of all \n",
    "            index combinations'''\n",
    "            ind=list(map(range, shape))\n",
    "            ind=list(map(list, ind))\n",
    "            return list(prod(*ind))\n",
    "        \n",
    "        \n",
    "        #get the necessary array shape for initiating the matrix\n",
    "        arrShape=list(array.shape)[:-1]\n",
    "        arrShape.extend([nDraws])\n",
    "        \n",
    "        #intiate thats shape x random draw\n",
    "        boot_dist=np.zeros(arrShape)\n",
    "        \n",
    "        for idx in _make_index(arrShape):\n",
    "            #pull out random indexes and slice the array\n",
    "            rand_idx=np.random.choice(array.shape[-1], size=sampleSize, replace=replacement)\n",
    "            \n",
    "            #we have to pull out all but the last element of the idx tuple so that we're drawing\n",
    "            #from the correct groups\n",
    "            pulled_data=array[idx[:-1]]\n",
    "            boot_dist[idx]=np.mean(pulled_data[rand_idx])\n",
    "        \n",
    "        return boot_dist\n",
    "        \n",
    "        \n",
    "    def mean_amp(self, flatten_axes=None, boots=200, samples=10):\n",
    "        '''get the mean amplitude accross the epoch'''\n",
    "        mean_amp=np.mean(self.sample_store, (len(self.sample_store.shape)-1))\n",
    "        \n",
    "        if flatten_axes:\n",
    "            mean_amp=mean_amp.reshape(*mean_amp.shape[:flatten_axes], -1)\n",
    "        \n",
    "        \n",
    "        \n",
    "        self.boot_store= self.random_draw(mean_amp,nDraws=200, sampleSize=samples)\n",
    "    \n",
    "    def peak_latency(self):\n",
    "        pass\n",
    "                                                             \n",
    "    \n",
    "    def plot_bootstrap(self, axis=0, colors='magma', xlabel='Channels'):\n",
    "        '''plots the boot-strapped data along the axis of interest\n",
    "        \n",
    "        axis : (int) - axis to plot the data along\n",
    "        colors : (String) - name of seaborn color palette for ploting\n",
    "        \n",
    "        '''\n",
    "        \n",
    "        try:\n",
    "        \n",
    "            plot_boot=self.boot_store.reshape(-1, self.boot_store.shape[axis])\n",
    "            plot_boot=plot_boot*1e6\n",
    "        \n",
    "            plter=sns.stripplot(data=plot_boot, palette=colors)\n",
    "            plter.set(xticklabels=self.sample_channels, xlabel=xlabel, ylabel='MicroVolts')\n",
    "        \n",
    "        except:\n",
    "            raise \n",
    "        \n",
    "        \n",
    "\n",
    "\n",
    "class eeg_power: \n",
    "    def __init__(self, fileDir=None,  dataType=None, montage=None, eventMap=None):\n",
    "        \n",
    "        if not eventMap:\n",
    "            raise 'Please specify event code meanings'\n",
    "        if not montage:\n",
    "            raise 'Please specify a list or specific set of montages for subjects'\n",
    "        if not dataType:\n",
    "            raise 'EEG file type must be specified'\n",
    "       \n",
    "        #search the whole directory tree for anything with the \n",
    "        #specified data type\n",
    "        self.files=glob.glob(os.path.join(fileDir, '**', 'EEG', ('*' + '.cnt')))                            \n",
    "        self.montage=montage\n",
    "        self.data=None\n",
    "        self.eventMap=eventMap\n",
    "    \n",
    "    def load_data(self):\n",
    "        #load method after intial init, this will give us the flexibility\n",
    "        #to restart after node subsetting if we need to\n",
    "        dats=[subject(ID='test',data=file, montage=self.montage, eventID=self.eventMap) for file in self.files]\n",
    "        self.data=dats\n",
    "    \n",
    "    def epoch_subjects(self,tmin=-.2, tmax=.8, baseline=(None,0.0), \n",
    "                         event=None, chans=[], average=False, store=False):\n",
    "        #creates the epoch data for each subject\n",
    "        [s.get_item_eeg(tmin=tmin, tmax=tmax, baseline=baseline,event=event, chans=chans, average=average, store=store) for s in self.data]\n",
    "    \n",
    "    \n",
    "    #def premute_subjects(self):\n",
    "    #    [s.]\n",
    "                        \n",
    "        \n",
    "       "
   ]
  },
  {
   "cell_type": "code",
   "execution_count": 122,
   "metadata": {},
   "outputs": [],
   "source": [
    "direct='C:/Users/Phil/Box Sync/Classes/PSC_290_Final/'\n",
    "\n",
    "#event mappings for the test data\n",
    "evMaps={'Test': 1, 'Test2': 2, 'Test3': 3, 'Test48': 48, 'Test77': 77, 'Test88':88, 'Test100': 100, 'Test200' : 200}"
   ]
  },
  {
   "cell_type": "code",
   "execution_count": 126,
   "metadata": {},
   "outputs": [
    {
     "name": "stdout",
     "output_type": "stream",
     "text": [
      "  Could not parse meas date from the header. Setting to None.\n"
     ]
    },
    {
     "name": "stderr",
     "output_type": "stream",
     "text": [
      "<ipython-input-121-34bde654acd1>:12: RuntimeWarning:   Could not parse meas date from the header. Setting to None.\n",
      "  return mne.io.read_raw_cnt(self.file,self.montage)\n"
     ]
    },
    {
     "name": "stdout",
     "output_type": "stream",
     "text": [
      "129 events found\n",
      "Event IDs: [  1   2   3  48  77  88 100 200]\n",
      "129 matching events found\n",
      "Applying baseline correction (mode: mean)\n",
      "Not setting metadata\n",
      "0 projection items activated\n",
      "Loading data for 129 events and 1001 original time points ...\n",
      "0 bad epochs dropped\n",
      "[11, 200]\n"
     ]
    }
   ],
   "source": [
    "subj=subject(ID='p', data=os.path.join(direct, 'data' ,'sub-10', 'EEG', 'ObjectAttn_10_1.cnt'),\n",
    "                       montage=os.path.join(direct, 'data', 'BP64_acti_64rows.sfp'), eventIDs=evMaps)\n",
    "subj.get_item_eeg(events=['Test', 'Test2'], chans=['Fp1', 'Fp2', 'F7', 'F3', 'Fz','F4','F8','FC5','FC1','FC2','FC6'], average=False, store=True)\n",
    "subj.mean_amp(flatten_axes=1, boots=1000)"
   ]
  },
  {
   "cell_type": "markdown",
   "metadata": {},
   "source": [
    "The graph shows test output for channel Fz at event code 2. Data are baselined in the interval -200ms - 0ms prior to stimulus onset. max time is 800ms"
   ]
  },
  {
   "cell_type": "code",
   "execution_count": 127,
   "metadata": {},
   "outputs": [
    {
     "data": {
      "text/plain": [
       "(11, 200)"
      ]
     },
     "execution_count": 127,
     "metadata": {},
     "output_type": "execute_result"
    }
   ],
   "source": [
    "subj.boot_store.shape"
   ]
  },
  {
   "cell_type": "code",
   "execution_count": 128,
   "metadata": {},
   "outputs": [
    {
     "data": {
      "image/png": "[encoded data removed]",
      "text/plain": [
       "<Figure size 432x288 with 1 Axes>"
      ]
     },
     "metadata": {},
     "output_type": "display_data"
    }
   ],
   "source": [
    "subj.plot_bootstrap(axis=0, colors='gist_rainbow')"
   ]
  },
  {
   "cell_type": "code",
   "execution_count": 130,
   "metadata": {},
   "outputs": [
    {
     "data": {
      "text/plain": [
       "17656"
      ]
     },
     "execution_count": 130,
     "metadata": {},
     "output_type": "execute_result"
    }
   ],
   "source": [
    "sys.getsizeof(subj.boot_store)"
   ]
  },
  {
   "cell_type": "code",
   "execution_count": 377,
   "metadata": {},
   "outputs": [
    {
     "data": {
      "text/plain": [
       "['C:/Users/Phil/Box Sync/Classes/PSC_290_Final/data\\\\sub-10\\\\EEG\\\\ObjectAttn_10_1.cnt',\n",
       " 'C:/Users/Phil/Box Sync/Classes/PSC_290_Final/data\\\\sub-18\\\\EEG\\\\ObjectAttn_18_5.cnt',\n",
       " 'C:/Users/Phil/Box Sync/Classes/PSC_290_Final/data\\\\sub-21\\\\EEG\\\\ObjectAttn_21_1.cnt']"
      ]
     },
     "execution_count": 377,
     "metadata": {},
     "output_type": "execute_result"
    }
   ],
   "source": [
    "glob.glob(os.path.join('C:/Users/Phil/Box Sync/Classes/PSC_290_Final/data', '**', 'EEG', ('*' + '.cnt')))"
   ]
  }
 ],
 "metadata": {
  "kernelspec": {
   "display_name": "Python 3",
   "language": "python",
   "name": "python3"
  },
  "language_info": {
   "codemirror_mode": {
    "name": "ipython",
    "version": 3
   },
   "file_extension": ".py",
   "mimetype": "text/x-python",
   "name": "python",
   "nbconvert_exporter": "python",
   "pygments_lexer": "ipython3",
   "version": "3.6.5"
  }
 },
 "nbformat": 4,
 "nbformat_minor": 2
}
