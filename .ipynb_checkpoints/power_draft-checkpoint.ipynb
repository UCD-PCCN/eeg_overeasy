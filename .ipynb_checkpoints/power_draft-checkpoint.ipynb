{
 "cells": [
  {
   "cell_type": "code",
   "execution_count": 4,
   "metadata": {},
   "outputs": [],
   "source": [
    "# part of power analysis function #\n",
    "# assuming I can get an array of SEs #\n",
    "\n",
    "#import mne\n",
    "import numpy as np\n",
    "import pandas as pd\n",
    "import os\n",
    "import glob\n",
    "from matplotlib import pyplot as plt\n",
    "import sys\n",
    "import warnings\n",
    "import seaborn as sns\n",
    "from itertools import product as prod\n",
    "\n",
    "# temporary \n",
    "from scipy import stats\n",
    "from statsmodels.stats.power import ttest_power, tt_ind_solve_power\n",
    "\n"
   ]
  },
  {
   "cell_type": "code",
   "execution_count": 156,
   "metadata": {},
   "outputs": [],
   "source": [
    "# create arrays of SEs, using 4 electrodes\n",
    "\n",
    "arr_simp = np.array([.01,1,2,10])\n",
    "\n",
    "# fake subjects and effect sizes\n",
    "Subs = [20,25,30,35]\n",
    "effect = [3, 5]\n"
   ]
  },
  {
   "cell_type": "code",
   "execution_count": 157,
   "metadata": {},
   "outputs": [],
   "source": [
    "# t tests with simple array\n",
    "\n",
    "t_arr = np.zeros((len(arr_simp), len(Subs), len(effect)))\n",
    "p_arr = np.zeros((len(arr_simp), len(Subs), len(effect)))\n",
    "\n",
    "for ele in range(len(arr_simp)):  # loop over electrodes\n",
    "    BESE = arr_simp[ele]\n",
    "    \n",
    "    for s in range(len(Subs)):    # loop over sample sizes\n",
    "        n = Subs[s]\n",
    "        df = 2*n - 2              # get degrees of freedom (based on sample size)\n",
    "        \n",
    "        for ef in range(len(effect)):          # loop over effect sizes\n",
    "            t = effect[ef] / (BESE/np.sqrt(n)) # get t value \n",
    "            t_arr[ele][s][ef] = t              # save t value\n",
    "            \n",
    "            p = 1 - stats.t.cdf(t,df=df)       # get p value\n",
    "            p_arr[ele][s][ef] = p              # save p value\n"
   ]
  },
  {
   "cell_type": "code",
   "execution_count": 158,
   "metadata": {},
   "outputs": [
    {
     "name": "stdout",
     "output_type": "stream",
     "text": [
      "[[[1.34164079e+03 2.23606798e+03]\n",
      "  [1.50000000e+03 2.50000000e+03]\n",
      "  [1.64316767e+03 2.73861279e+03]\n",
      "  [1.77482393e+03 2.95803989e+03]]\n",
      "\n",
      " [[1.34164079e+01 2.23606798e+01]\n",
      "  [1.50000000e+01 2.50000000e+01]\n",
      "  [1.64316767e+01 2.73861279e+01]\n",
      "  [1.77482393e+01 2.95803989e+01]]\n",
      "\n",
      " [[6.70820393e+00 1.11803399e+01]\n",
      "  [7.50000000e+00 1.25000000e+01]\n",
      "  [8.21583836e+00 1.36930639e+01]\n",
      "  [8.87411967e+00 1.47901995e+01]]\n",
      "\n",
      " [[1.34164079e+00 2.23606798e+00]\n",
      "  [1.50000000e+00 2.50000000e+00]\n",
      "  [1.64316767e+00 2.73861279e+00]\n",
      "  [1.77482393e+00 2.95803989e+00]]]\n"
     ]
    }
   ],
   "source": [
    "# t values\n",
    "print(t_arr)"
   ]
  },
  {
   "cell_type": "code",
   "execution_count": 159,
   "metadata": {},
   "outputs": [
    {
     "name": "stdout",
     "output_type": "stream",
     "text": [
      "[[[0.00000000e+00 0.00000000e+00]\n",
      "  [0.00000000e+00 0.00000000e+00]\n",
      "  [0.00000000e+00 0.00000000e+00]\n",
      "  [0.00000000e+00 0.00000000e+00]]\n",
      "\n",
      " [[3.33066907e-16 0.00000000e+00]\n",
      "  [0.00000000e+00 0.00000000e+00]\n",
      "  [0.00000000e+00 0.00000000e+00]\n",
      "  [0.00000000e+00 0.00000000e+00]]\n",
      "\n",
      " [[3.06019163e-08 7.02771175e-14]\n",
      "  [6.32174757e-10 1.11022302e-16]\n",
      "  [1.33266731e-11 0.00000000e+00]\n",
      "  [2.84883228e-13 0.00000000e+00]]\n",
      "\n",
      " [[9.38377405e-02 1.56487342e-02]\n",
      "  [7.00818569e-02 7.94484547e-03]\n",
      "  [5.28795835e-02 4.09079077e-03]\n",
      "  [4.02012659e-02 2.12778133e-03]]]\n"
     ]
    }
   ],
   "source": [
    "# p values\n",
    "print ( p_arr)"
   ]
  },
  {
   "cell_type": "code",
   "execution_count": 5,
   "metadata": {},
   "outputs": [],
   "source": [
    "# fake arrays\n",
    "\n",
    "Subs = [1,10,20,50]\n",
    "effects = [1, 2, 3, 5]\n",
    "arr_simp = np.array([1,2,3,5])\n"
   ]
  },
  {
   "cell_type": "code",
   "execution_count": 146,
   "metadata": {},
   "outputs": [],
   "source": [
    "pwrs = np.zeros((len(arr_simp), len(Subs), len(effects)))\n",
    "\n",
    "for ele in range(len(arr_simp)):  # loop over electrodes\n",
    "    BESE = arr_simp[ele]\n",
    "    \n",
    "    for s in range(len(Subs)):    # loop over sample sizes\n",
    "        n = Subs[s]\n",
    "        SD = BESE/(np.sqrt(n))    # get SD from BESE (yeah maybe wrong)\n",
    "        #null_dist = np.random.normal(loc = 0, scale = SD, size = 1000)     # make null distribution\n",
    "        crit = 1.96*SD                                                      # get critical value\n",
    "        \n",
    "        for effect in range(len(effects)):                                  # loop over effect sizes\n",
    "            ef = effects[effect]\n",
    "            alt_dist = np.random.normal(loc = ef, scale = SD, size = 10000) # make alternative distribution \n",
    "            pwr = len(alt_dist[alt_dist>crit])/len(alt_dist)\n",
    "            \n",
    "            pwrs[ele][s][effect] = pwr              # save power \n"
   ]
  },
  {
   "cell_type": "code",
   "execution_count": 147,
   "metadata": {},
   "outputs": [
    {
     "data": {
      "text/plain": [
       "array([[[0.1678, 0.5066, 0.8512, 0.9991],\n",
       "        [0.8835, 1.    , 1.    , 1.    ],\n",
       "        [0.9945, 1.    , 1.    , 1.    ],\n",
       "        [1.    , 1.    , 1.    , 1.    ]],\n",
       "\n",
       "       [[0.0709, 0.1704, 0.3196, 0.7103],\n",
       "        [0.3469, 0.8848, 0.9965, 1.    ],\n",
       "        [0.6056, 0.994 , 1.    , 1.    ],\n",
       "        [0.9451, 1.    , 1.    , 1.    ]],\n",
       "\n",
       "       [[0.0521, 0.0967, 0.1738, 0.388 ],\n",
       "        [0.1737, 0.5571, 0.8815, 0.9998],\n",
       "        [0.3133, 0.8452, 0.9944, 1.    ],\n",
       "        [0.6678, 0.9972, 1.    , 1.    ]],\n",
       "\n",
       "       [[0.0391, 0.0563, 0.088 , 0.1734],\n",
       "        [0.0893, 0.2424, 0.4809, 0.8889],\n",
       "        [0.1408, 0.4351, 0.7619, 0.9943],\n",
       "        [0.2837, 0.809 , 0.9887, 1.    ]]])"
      ]
     },
     "execution_count": 147,
     "metadata": {},
     "output_type": "execute_result"
    }
   ],
   "source": [
    "pwrs"
   ]
  },
  {
   "cell_type": "code",
   "execution_count": 15,
   "metadata": {},
   "outputs": [],
   "source": [
    "def power_analysis(data_array, nSubs, ES):\n",
    "    pwrs = np.zeros((len(data_array), len(nSubs), len(ES)))\n",
    "\n",
    "    for ele in range(len(data_array)):  # loop over electrodes\n",
    "        BESE = data_array[ele]\n",
    "\n",
    "        for s in range(len(nSubs)):    # loop over sample sizes\n",
    "            n = nSubs[s]\n",
    "            SD = BESE/(np.sqrt(n))    # get SD from BESE (yeah maybe wrong)\n",
    "            #null_dist = np.random.normal(loc = 0, scale = SD, size = 1000)     # make null distribution\n",
    "            crit = 1.96*SD                                                      # get critical value\n",
    "\n",
    "            for effect in range(len(ES)):                                  # loop over effect sizes\n",
    "                ef = ES[effect]\n",
    "                alt_dist = np.random.normal(loc = ef, scale = SD, size = 10000) # make alternative distribution \n",
    "                pwr = len(alt_dist[alt_dist>crit])/len(alt_dist)\n",
    "\n",
    "                pwrs[ele][s][effect] = pwr              # save power \n",
    "    return pwrs"
   ]
  },
  {
   "cell_type": "code",
   "execution_count": 16,
   "metadata": {},
   "outputs": [],
   "source": [
    "pwrs = power_analysis(arr_simp, Subs, effects)"
   ]
  },
  {
   "cell_type": "code",
   "execution_count": 17,
   "metadata": {},
   "outputs": [
    {
     "data": {
      "text/plain": [
       "array([[[0.1712, 0.5198, 0.8484, 0.9986],\n",
       "        [0.8888, 1.    , 1.    , 1.    ],\n",
       "        [0.9937, 1.    , 1.    , 1.    ],\n",
       "        [1.    , 1.    , 1.    , 1.    ]],\n",
       "\n",
       "       [[0.0752, 0.1732, 0.3175, 0.7049],\n",
       "        [0.3588, 0.8852, 0.9968, 1.    ],\n",
       "        [0.6057, 0.9939, 1.    , 1.    ],\n",
       "        [0.9415, 1.    , 1.    , 1.    ]],\n",
       "\n",
       "       [[0.0532, 0.1002, 0.176 , 0.3836],\n",
       "        [0.181 , 0.5544, 0.8856, 0.9994],\n",
       "        [0.3199, 0.8414, 0.9926, 1.    ],\n",
       "        [0.6511, 0.9973, 1.    , 1.    ]],\n",
       "\n",
       "       [[0.0414, 0.057 , 0.0812, 0.1678],\n",
       "        [0.092 , 0.2461, 0.4858, 0.8799],\n",
       "        [0.1396, 0.4328, 0.7626, 0.994 ],\n",
       "        [0.2995, 0.8027, 0.9879, 1.    ]]])"
      ]
     },
     "execution_count": 17,
     "metadata": {},
     "output_type": "execute_result"
    }
   ],
   "source": [
    "pwrs"
   ]
  },
  {
   "cell_type": "code",
   "execution_count": null,
   "metadata": {},
   "outputs": [],
   "source": []
  }
 ],
 "metadata": {
  "kernelspec": {
   "display_name": "Python 3",
   "language": "python",
   "name": "python3"
  },
  "language_info": {
   "codemirror_mode": {
    "name": "ipython",
    "version": 3
   },
   "file_extension": ".py",
   "mimetype": "text/x-python",
   "name": "python",
   "nbconvert_exporter": "python",
   "pygments_lexer": "ipython3",
   "version": "3.6.4"
  }
 },
 "nbformat": 4,
 "nbformat_minor": 2
}
