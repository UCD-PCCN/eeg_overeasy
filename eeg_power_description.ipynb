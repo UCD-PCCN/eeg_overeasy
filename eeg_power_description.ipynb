{
 "cells": [
  {
   "cell_type": "markdown",
   "metadata": {},
   "source": [
    "#### *eeg_power*\n",
    "The main class for conducting the power analyses.\n",
    "\n",
    "##### Init properites\n",
    "1. directory **arugment** : directory with subject data \n",
    "2. eeg_file **argument** : denotes the eeg file type that needs to be loaded in\n",
    "2. eeg_tag **argument** : optional string argument that denotes a regex pattern for pulling EEG from mixed data set\n",
    "3. data : pandas dataframe of loaded eeg data\n",
    "4. boot_array : defaults to none. Modified by boot_strap method\n",
    "\n",
    "##### Methods\n",
    "These methods are ogranized into methods groups depending on what types of things they do. \n",
    "\n",
    "###### dataframe methods \n",
    "These methods contain nominal methods that are purley intended to act on the underlying dataframes so that \n",
    "users don't have to call the class data attribute directly\n",
    "1. *to_array* : calls the dataframe property for array conversion\n",
    "2. *subset* : used for subsetting dataframes by relvant values - takes arugments col, values\n",
    "3. *add_col* : adds columns to the main dataset\n",
    "4. *return_col* : returns selected columns \n",
    "\n",
    "###### data manipulation methods\n",
    "These methods are for altering the data or generating new data based on the needs of the user\n",
    "1. *detrend* : basic detrending of data overlaying scipy.signal.dertrend()\n",
    "2. *average_potential* : returns mean potenial over time points - arguments for groupby and bin size\n",
    "3. *boot_strap* : returns distribution of boot_strapped effects (not sure what this would be). Modifies the boot_array attribute to be an array \n",
    "of t-values\n",
    "4. *power_analyses* : ags - nPeople, nTrials,effSize - returns power at specified levels. If input left as none or specified as array, the function will return an array that gives power for different level of that arugment, with specified arguments as constants.  \n",
    "\n",
    "###### visualization methods\n",
    "These methods are purley for visualizing and checking data\n",
    "1. *erp_plot* : overlays seaborn or matplotlib time plot to show eeg components, with options for CI\n",
    "2. *node_plot* : overlays a multi-axes plot for ERP x nodes\n",
    "3. *boot_plot* : plots the boot_array attribute, indexing where true value falls \n"
   ]
  }
 ],
 "metadata": {
  "kernelspec": {
   "display_name": "Python 3",
   "language": "python",
   "name": "python3"
  },
  "language_info": {
   "codemirror_mode": {
    "name": "ipython",
    "version": 3
   },
   "file_extension": ".py",
   "mimetype": "text/x-python",
   "name": "python",
   "nbconvert_exporter": "python",
   "pygments_lexer": "ipython3",
   "version": "3.6.5"
  }
 },
 "nbformat": 4,
 "nbformat_minor": 2
}
